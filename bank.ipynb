{
 "cells": [
  {
   "cell_type": "markdown",
   "metadata": {
    "toc": true
   },
   "source": [
    "<h1>Содержание<span class=\"tocSkip\"></span></h1>\n",
    "<div class=\"toc\"><ul class=\"toc-item\"><li><span><a href=\"#Подготовка-данных\" data-toc-modified-id=\"Подготовка-данных-1\"><span class=\"toc-item-num\">1&nbsp;&nbsp;</span>Подготовка данных</a></span><ul class=\"toc-item\"><li><span><a href=\"#Начальное-изучение-данных\" data-toc-modified-id=\"Начальное-изучение-данных-1.1\"><span class=\"toc-item-num\">1.1&nbsp;&nbsp;</span>Начальное изучение данных</a></span></li><li><span><a href=\"#Проверка-значений-в-столбцах\" data-toc-modified-id=\"Проверка-значений-в-столбцах-1.2\"><span class=\"toc-item-num\">1.2&nbsp;&nbsp;</span>Проверка значений в столбцах</a></span></li><li><span><a href=\"#Прямое-кодирование\" data-toc-modified-id=\"Прямое-кодирование-1.3\"><span class=\"toc-item-num\">1.3&nbsp;&nbsp;</span>Прямое кодирование</a></span></li></ul></li><li><span><a href=\"#Исследование-задачи\" data-toc-modified-id=\"Исследование-задачи-2\"><span class=\"toc-item-num\">2&nbsp;&nbsp;</span>Исследование задачи</a></span><ul class=\"toc-item\"><li><span><a href=\"#Разбивка-данных-на-выборки\" data-toc-modified-id=\"Разбивка-данных-на-выборки-2.1\"><span class=\"toc-item-num\">2.1&nbsp;&nbsp;</span>Разбивка данных на выборки</a></span></li><li><span><a href=\"#Исследование-баланса-классов\" data-toc-modified-id=\"Исследование-баланса-классов-2.2\"><span class=\"toc-item-num\">2.2&nbsp;&nbsp;</span>Исследование баланса классов</a></span></li><li><span><a href=\"#Масштабирование-признаков\" data-toc-modified-id=\"Масштабирование-признаков-2.3\"><span class=\"toc-item-num\">2.3&nbsp;&nbsp;</span>Масштабирование признаков</a></span></li><li><span><a href=\"#Случайный-лес\" data-toc-modified-id=\"Случайный-лес-2.4\"><span class=\"toc-item-num\">2.4&nbsp;&nbsp;</span>Случайный лес</a></span></li><li><span><a href=\"#Логистическая-регрессия\" data-toc-modified-id=\"Логистическая-регрессия-2.5\"><span class=\"toc-item-num\">2.5&nbsp;&nbsp;</span>Логистическая регрессия</a></span></li><li><span><a href=\"#Вывод\" data-toc-modified-id=\"Вывод-2.6\"><span class=\"toc-item-num\">2.6&nbsp;&nbsp;</span>Вывод</a></span></li></ul></li><li><span><a href=\"#Борьба-с-дисбалансом\" data-toc-modified-id=\"Борьба-с-дисбалансом-3\"><span class=\"toc-item-num\">3&nbsp;&nbsp;</span>Борьба с дисбалансом</a></span><ul class=\"toc-item\"><li><span><a href=\"#Взвешивание-классов\" data-toc-modified-id=\"Взвешивание-классов-3.1\"><span class=\"toc-item-num\">3.1&nbsp;&nbsp;</span>Взвешивание классов</a></span><ul class=\"toc-item\"><li><span><a href=\"#Случайный-лес\" data-toc-modified-id=\"Случайный-лес-3.1.1\"><span class=\"toc-item-num\">3.1.1&nbsp;&nbsp;</span>Случайный лес</a></span></li><li><span><a href=\"#Логистическая-регрессия\" data-toc-modified-id=\"Логистическая-регрессия-3.1.2\"><span class=\"toc-item-num\">3.1.2&nbsp;&nbsp;</span>Логистическая регрессия</a></span></li></ul></li><li><span><a href=\"#Увеличение-выборки\" data-toc-modified-id=\"Увеличение-выборки-3.2\"><span class=\"toc-item-num\">3.2&nbsp;&nbsp;</span>Увеличение выборки</a></span></li><li><span><a href=\"#Уменьшение-выборки\" data-toc-modified-id=\"Уменьшение-выборки-3.3\"><span class=\"toc-item-num\">3.3&nbsp;&nbsp;</span>Уменьшение выборки</a></span></li><li><span><a href=\"#Изменение-порога-классификации\" data-toc-modified-id=\"Изменение-порога-классификации-3.4\"><span class=\"toc-item-num\">3.4&nbsp;&nbsp;</span>Изменение порога классификации</a></span><ul class=\"toc-item\"><li><span><a href=\"#Случайный-лес\" data-toc-modified-id=\"Случайный-лес-3.4.1\"><span class=\"toc-item-num\">3.4.1&nbsp;&nbsp;</span>Случайный лес</a></span></li><li><span><a href=\"#Логистическая-регрессия\" data-toc-modified-id=\"Логистическая-регрессия-3.4.2\"><span class=\"toc-item-num\">3.4.2&nbsp;&nbsp;</span>Логистическая регрессия</a></span></li></ul></li><li><span><a href=\"#Вывод\" data-toc-modified-id=\"Вывод-3.5\"><span class=\"toc-item-num\">3.5&nbsp;&nbsp;</span>Вывод</a></span></li></ul></li><li><span><a href=\"#Тестирование-модели\" data-toc-modified-id=\"Тестирование-модели-4\"><span class=\"toc-item-num\">4&nbsp;&nbsp;</span>Тестирование модели</a></span><ul class=\"toc-item\"><li><span><a href=\"#Взвешивание-классов\" data-toc-modified-id=\"Взвешивание-классов-4.1\"><span class=\"toc-item-num\">4.1&nbsp;&nbsp;</span>Взвешивание классов</a></span></li><li><span><a href=\"#Увеличение-выборки\" data-toc-modified-id=\"Увеличение-выборки-4.2\"><span class=\"toc-item-num\">4.2&nbsp;&nbsp;</span>Увеличение выборки</a></span></li><li><span><a href=\"#Уменьшение-выборки\" data-toc-modified-id=\"Уменьшение-выборки-4.3\"><span class=\"toc-item-num\">4.3&nbsp;&nbsp;</span>Уменьшение выборки</a></span></li><li><span><a href=\"#Изменение-порога-классификации\" data-toc-modified-id=\"Изменение-порога-классификации-4.4\"><span class=\"toc-item-num\">4.4&nbsp;&nbsp;</span>Изменение порога классификации</a></span></li><li><span><a href=\"#Выводы\" data-toc-modified-id=\"Выводы-4.5\"><span class=\"toc-item-num\">4.5&nbsp;&nbsp;</span>Выводы</a></span></li></ul></li><li><span><a href=\"#Чек-лист-готовности-проекта\" data-toc-modified-id=\"Чек-лист-готовности-проекта-5\"><span class=\"toc-item-num\">5&nbsp;&nbsp;</span>Чек-лист готовности проекта</a></span></li></ul></div>"
   ]
  },
  {
   "cell_type": "markdown",
   "metadata": {},
   "source": [
    "# Отток клиентов"
   ]
  },
  {
   "cell_type": "markdown",
   "metadata": {},
   "source": [
    "Из «Бета-Банка» стали уходить клиенты. Каждый месяц. Немного, но заметно. Банковские маркетологи посчитали: сохранять текущих клиентов дешевле, чем привлекать новых.\n",
    "\n",
    "Нужно спрогнозировать, уйдёт клиент из банка в ближайшее время или нет. Предоставлены исторические данные о поведении клиентов и расторжении договоров с банком. \n",
    "\n",
    "Нужно построить модель с предельно большим значением *F1*-меры, более 0.59.\n",
    "\n",
    "Источник данных: [https://www.kaggle.com/barelydedicated/bank-customer-churn-modeling](https://www.kaggle.com/barelydedicated/bank-customer-churn-modeling)"
   ]
  },
  {
   "cell_type": "markdown",
   "metadata": {},
   "source": [
    "## Подготовка данных"
   ]
  },
  {
   "cell_type": "markdown",
   "metadata": {},
   "source": [
    "Импорт необходимых библиотек"
   ]
  },
  {
   "cell_type": "code",
   "execution_count": 1,
   "metadata": {},
   "outputs": [],
   "source": [
    "import pandas as pd\n",
    "import numpy as np\n",
    "import matplotlib.pyplot as plt\n",
    "from sklearn.preprocessing import StandardScaler \n",
    "from sklearn.model_selection import train_test_split\n",
    "from sklearn.ensemble import RandomForestClassifier\n",
    "from sklearn.linear_model import LogisticRegression\n",
    "from sklearn.metrics import f1_score, roc_auc_score, roc_curve \n",
    "from sklearn.utils import shuffle"
   ]
  },
  {
   "cell_type": "markdown",
   "metadata": {},
   "source": [
    "Открываем файл и сохраняем данные в датафрейм"
   ]
  },
  {
   "cell_type": "code",
   "execution_count": 2,
   "metadata": {},
   "outputs": [],
   "source": [
    "df = pd.read_csv('./datasets/Churn.csv', index_col='RowNumber')"
   ]
  },
  {
   "cell_type": "markdown",
   "metadata": {},
   "source": [
    "### Начальное изучение данных"
   ]
  },
  {
   "cell_type": "code",
   "execution_count": 3,
   "metadata": {},
   "outputs": [
    {
     "name": "stdout",
     "output_type": "stream",
     "text": [
      "<class 'pandas.core.frame.DataFrame'>\n",
      "Int64Index: 10000 entries, 1 to 10000\n",
      "Data columns (total 13 columns):\n",
      " #   Column           Non-Null Count  Dtype  \n",
      "---  ------           --------------  -----  \n",
      " 0   CustomerId       10000 non-null  int64  \n",
      " 1   Surname          10000 non-null  object \n",
      " 2   CreditScore      10000 non-null  int64  \n",
      " 3   Geography        10000 non-null  object \n",
      " 4   Gender           10000 non-null  object \n",
      " 5   Age              10000 non-null  int64  \n",
      " 6   Tenure           9091 non-null   float64\n",
      " 7   Balance          10000 non-null  float64\n",
      " 8   NumOfProducts    10000 non-null  int64  \n",
      " 9   HasCrCard        10000 non-null  int64  \n",
      " 10  IsActiveMember   10000 non-null  int64  \n",
      " 11  EstimatedSalary  10000 non-null  float64\n",
      " 12  Exited           10000 non-null  int64  \n",
      "dtypes: float64(3), int64(7), object(3)\n",
      "memory usage: 1.1+ MB\n"
     ]
    }
   ],
   "source": [
    "df.info()"
   ]
  },
  {
   "cell_type": "markdown",
   "metadata": {},
   "source": [
    "Признаки\n",
    "* `RowNumber` — индекс строки в данных\n",
    "* `CustomerId` — уникальный идентификатор клиента\n",
    "* `Surname` — фамилия\n",
    "* `CreditScore` — кредитный рейтинг\n",
    "* `Geography` — страна проживания\n",
    "* `Gender` — пол\n",
    "* `Age` — возраст\n",
    "* `Tenure` — сколько лет человек является клиентом банка\n",
    "* `Balance` — баланс на счёте\n",
    "* `NumOfProducts` — количество продуктов банка, используемых клиентом\n",
    "* `HasCrCard` — наличие кредитной карты\n",
    "* `IsActiveMember` — активность клиента\n",
    "* `EstimatedSalary` — предполагаемая зарплата\n",
    "\n",
    "Целевой признак\n",
    "* `Exited` — факт ухода клиента"
   ]
  },
  {
   "cell_type": "markdown",
   "metadata": {},
   "source": [
    "###### Вывод\n",
    "* в столбце `Tenure` ести пропущенные значения и тип данных указан float, хотя должен быть int, так как года могут быть только целыми числами\n",
    "* столбцы `CustomerId` и `Surname` являются уникальными данными и не пригодятся в обучение модели, так как идентификатор и фамилия клиента ни как не влияют на его уход из банка, их лучше удалить. \n",
    "* столбцы `Geography` и `Gender` необходимо перевести в количественные значения"
   ]
  },
  {
   "cell_type": "markdown",
   "metadata": {},
   "source": [
    "Удалим столбцы `CustomerId` и `Surname`"
   ]
  },
  {
   "cell_type": "code",
   "execution_count": 4,
   "metadata": {},
   "outputs": [],
   "source": [
    "df = df.drop(['CustomerId', 'Surname'], axis=1)"
   ]
  },
  {
   "cell_type": "code",
   "execution_count": 5,
   "metadata": {},
   "outputs": [
    {
     "data": {
      "text/html": [
       "<div>\n",
       "<style scoped>\n",
       "    .dataframe tbody tr th:only-of-type {\n",
       "        vertical-align: middle;\n",
       "    }\n",
       "\n",
       "    .dataframe tbody tr th {\n",
       "        vertical-align: top;\n",
       "    }\n",
       "\n",
       "    .dataframe thead th {\n",
       "        text-align: right;\n",
       "    }\n",
       "</style>\n",
       "<table border=\"1\" class=\"dataframe\">\n",
       "  <thead>\n",
       "    <tr style=\"text-align: right;\">\n",
       "      <th></th>\n",
       "      <th>CreditScore</th>\n",
       "      <th>Geography</th>\n",
       "      <th>Gender</th>\n",
       "      <th>Age</th>\n",
       "      <th>Tenure</th>\n",
       "      <th>Balance</th>\n",
       "      <th>NumOfProducts</th>\n",
       "      <th>HasCrCard</th>\n",
       "      <th>IsActiveMember</th>\n",
       "      <th>EstimatedSalary</th>\n",
       "      <th>Exited</th>\n",
       "    </tr>\n",
       "    <tr>\n",
       "      <th>RowNumber</th>\n",
       "      <th></th>\n",
       "      <th></th>\n",
       "      <th></th>\n",
       "      <th></th>\n",
       "      <th></th>\n",
       "      <th></th>\n",
       "      <th></th>\n",
       "      <th></th>\n",
       "      <th></th>\n",
       "      <th></th>\n",
       "      <th></th>\n",
       "    </tr>\n",
       "  </thead>\n",
       "  <tbody>\n",
       "    <tr>\n",
       "      <th>1</th>\n",
       "      <td>619</td>\n",
       "      <td>France</td>\n",
       "      <td>Female</td>\n",
       "      <td>42</td>\n",
       "      <td>2.0</td>\n",
       "      <td>0.00</td>\n",
       "      <td>1</td>\n",
       "      <td>1</td>\n",
       "      <td>1</td>\n",
       "      <td>101348.88</td>\n",
       "      <td>1</td>\n",
       "    </tr>\n",
       "    <tr>\n",
       "      <th>2</th>\n",
       "      <td>608</td>\n",
       "      <td>Spain</td>\n",
       "      <td>Female</td>\n",
       "      <td>41</td>\n",
       "      <td>1.0</td>\n",
       "      <td>83807.86</td>\n",
       "      <td>1</td>\n",
       "      <td>0</td>\n",
       "      <td>1</td>\n",
       "      <td>112542.58</td>\n",
       "      <td>0</td>\n",
       "    </tr>\n",
       "    <tr>\n",
       "      <th>3</th>\n",
       "      <td>502</td>\n",
       "      <td>France</td>\n",
       "      <td>Female</td>\n",
       "      <td>42</td>\n",
       "      <td>8.0</td>\n",
       "      <td>159660.80</td>\n",
       "      <td>3</td>\n",
       "      <td>1</td>\n",
       "      <td>0</td>\n",
       "      <td>113931.57</td>\n",
       "      <td>1</td>\n",
       "    </tr>\n",
       "    <tr>\n",
       "      <th>4</th>\n",
       "      <td>699</td>\n",
       "      <td>France</td>\n",
       "      <td>Female</td>\n",
       "      <td>39</td>\n",
       "      <td>1.0</td>\n",
       "      <td>0.00</td>\n",
       "      <td>2</td>\n",
       "      <td>0</td>\n",
       "      <td>0</td>\n",
       "      <td>93826.63</td>\n",
       "      <td>0</td>\n",
       "    </tr>\n",
       "    <tr>\n",
       "      <th>5</th>\n",
       "      <td>850</td>\n",
       "      <td>Spain</td>\n",
       "      <td>Female</td>\n",
       "      <td>43</td>\n",
       "      <td>2.0</td>\n",
       "      <td>125510.82</td>\n",
       "      <td>1</td>\n",
       "      <td>1</td>\n",
       "      <td>1</td>\n",
       "      <td>79084.10</td>\n",
       "      <td>0</td>\n",
       "    </tr>\n",
       "    <tr>\n",
       "      <th>6</th>\n",
       "      <td>645</td>\n",
       "      <td>Spain</td>\n",
       "      <td>Male</td>\n",
       "      <td>44</td>\n",
       "      <td>8.0</td>\n",
       "      <td>113755.78</td>\n",
       "      <td>2</td>\n",
       "      <td>1</td>\n",
       "      <td>0</td>\n",
       "      <td>149756.71</td>\n",
       "      <td>1</td>\n",
       "    </tr>\n",
       "    <tr>\n",
       "      <th>7</th>\n",
       "      <td>822</td>\n",
       "      <td>France</td>\n",
       "      <td>Male</td>\n",
       "      <td>50</td>\n",
       "      <td>7.0</td>\n",
       "      <td>0.00</td>\n",
       "      <td>2</td>\n",
       "      <td>1</td>\n",
       "      <td>1</td>\n",
       "      <td>10062.80</td>\n",
       "      <td>0</td>\n",
       "    </tr>\n",
       "    <tr>\n",
       "      <th>8</th>\n",
       "      <td>376</td>\n",
       "      <td>Germany</td>\n",
       "      <td>Female</td>\n",
       "      <td>29</td>\n",
       "      <td>4.0</td>\n",
       "      <td>115046.74</td>\n",
       "      <td>4</td>\n",
       "      <td>1</td>\n",
       "      <td>0</td>\n",
       "      <td>119346.88</td>\n",
       "      <td>1</td>\n",
       "    </tr>\n",
       "    <tr>\n",
       "      <th>9</th>\n",
       "      <td>501</td>\n",
       "      <td>France</td>\n",
       "      <td>Male</td>\n",
       "      <td>44</td>\n",
       "      <td>4.0</td>\n",
       "      <td>142051.07</td>\n",
       "      <td>2</td>\n",
       "      <td>0</td>\n",
       "      <td>1</td>\n",
       "      <td>74940.50</td>\n",
       "      <td>0</td>\n",
       "    </tr>\n",
       "    <tr>\n",
       "      <th>10</th>\n",
       "      <td>684</td>\n",
       "      <td>France</td>\n",
       "      <td>Male</td>\n",
       "      <td>27</td>\n",
       "      <td>2.0</td>\n",
       "      <td>134603.88</td>\n",
       "      <td>1</td>\n",
       "      <td>1</td>\n",
       "      <td>1</td>\n",
       "      <td>71725.73</td>\n",
       "      <td>0</td>\n",
       "    </tr>\n",
       "  </tbody>\n",
       "</table>\n",
       "</div>"
      ],
      "text/plain": [
       "           CreditScore Geography  Gender  Age  Tenure    Balance  \\\n",
       "RowNumber                                                          \n",
       "1                  619    France  Female   42     2.0       0.00   \n",
       "2                  608     Spain  Female   41     1.0   83807.86   \n",
       "3                  502    France  Female   42     8.0  159660.80   \n",
       "4                  699    France  Female   39     1.0       0.00   \n",
       "5                  850     Spain  Female   43     2.0  125510.82   \n",
       "6                  645     Spain    Male   44     8.0  113755.78   \n",
       "7                  822    France    Male   50     7.0       0.00   \n",
       "8                  376   Germany  Female   29     4.0  115046.74   \n",
       "9                  501    France    Male   44     4.0  142051.07   \n",
       "10                 684    France    Male   27     2.0  134603.88   \n",
       "\n",
       "           NumOfProducts  HasCrCard  IsActiveMember  EstimatedSalary  Exited  \n",
       "RowNumber                                                                     \n",
       "1                      1          1               1        101348.88       1  \n",
       "2                      1          0               1        112542.58       0  \n",
       "3                      3          1               0        113931.57       1  \n",
       "4                      2          0               0         93826.63       0  \n",
       "5                      1          1               1         79084.10       0  \n",
       "6                      2          1               0        149756.71       1  \n",
       "7                      2          1               1         10062.80       0  \n",
       "8                      4          1               0        119346.88       1  \n",
       "9                      2          0               1         74940.50       0  \n",
       "10                     1          1               1         71725.73       0  "
      ]
     },
     "execution_count": 5,
     "metadata": {},
     "output_type": "execute_result"
    }
   ],
   "source": [
    "df.head(10)"
   ]
  },
  {
   "cell_type": "markdown",
   "metadata": {},
   "source": [
    "### Проверка значений в столбцах"
   ]
  },
  {
   "cell_type": "code",
   "execution_count": 6,
   "metadata": {},
   "outputs": [
    {
     "data": {
      "text/plain": [
       "0"
      ]
     },
     "execution_count": 6,
     "metadata": {},
     "output_type": "execute_result"
    }
   ],
   "source": [
    "df.query('CreditScore < 0 or CreditScore > 1000 ')['CreditScore'].count()"
   ]
  },
  {
   "cell_type": "markdown",
   "metadata": {},
   "source": [
    "* Значения корректные"
   ]
  },
  {
   "cell_type": "code",
   "execution_count": 7,
   "metadata": {},
   "outputs": [
    {
     "data": {
      "text/plain": [
       "France     5014\n",
       "Germany    2509\n",
       "Spain      2477\n",
       "Name: Geography, dtype: int64"
      ]
     },
     "execution_count": 7,
     "metadata": {},
     "output_type": "execute_result"
    }
   ],
   "source": [
    "df['Geography'].value_counts()"
   ]
  },
  {
   "cell_type": "markdown",
   "metadata": {},
   "source": [
    "* Значения корректные"
   ]
  },
  {
   "cell_type": "code",
   "execution_count": 8,
   "metadata": {},
   "outputs": [
    {
     "data": {
      "text/plain": [
       "Male      5457\n",
       "Female    4543\n",
       "Name: Gender, dtype: int64"
      ]
     },
     "execution_count": 8,
     "metadata": {},
     "output_type": "execute_result"
    }
   ],
   "source": [
    "df['Gender'].value_counts()"
   ]
  },
  {
   "cell_type": "markdown",
   "metadata": {},
   "source": [
    "* Значения корректные"
   ]
  },
  {
   "cell_type": "code",
   "execution_count": 9,
   "metadata": {},
   "outputs": [
    {
     "data": {
      "text/plain": [
       "1.0     952\n",
       "2.0     950\n",
       "8.0     933\n",
       "3.0     928\n",
       "5.0     927\n",
       "7.0     925\n",
       "4.0     885\n",
       "9.0     882\n",
       "6.0     881\n",
       "10.0    446\n",
       "0.0     382\n",
       "Name: Tenure, dtype: int64"
      ]
     },
     "execution_count": 9,
     "metadata": {},
     "output_type": "execute_result"
    }
   ],
   "source": [
    "df['Tenure'].value_counts()"
   ]
  },
  {
   "cell_type": "markdown",
   "metadata": {},
   "source": [
    "* Мы видим что новых клиентов (0 лет в банке) меньше всего, хотя их должно быть больше всего, так как часть новых клиентов уходит, а остальные со временем переходят в категорию \"1 год в банке\", следовательно категория \"1 год в банке\" должна быть меньше или близка к категории \"0 лет в банке\", если конечно не произошло резкое уменьшение новых клиентов. Скорее всего пропущенные значения - это значения из категории \"0 лет в банке\", тогда картина будет выглядеть  более правдиво. Если мы просто удалим строки с пропущенными значениями, то мы можем потерять существенную часть выборки и большую часть категории клиентов \"0 лет в банке\"."
   ]
  },
  {
   "cell_type": "markdown",
   "metadata": {},
   "source": [
    "Заменим пропуски на нулевые значения в столбце `Tenure` и заменим тип float на int"
   ]
  },
  {
   "cell_type": "code",
   "execution_count": 10,
   "metadata": {},
   "outputs": [],
   "source": [
    "df['Tenure'] = df['Tenure'].fillna(0).astype('int')"
   ]
  },
  {
   "cell_type": "code",
   "execution_count": 11,
   "metadata": {},
   "outputs": [
    {
     "data": {
      "text/plain": [
       "0     1291\n",
       "1      952\n",
       "2      950\n",
       "8      933\n",
       "3      928\n",
       "5      927\n",
       "7      925\n",
       "4      885\n",
       "9      882\n",
       "6      881\n",
       "10     446\n",
       "Name: Tenure, dtype: int64"
      ]
     },
     "execution_count": 11,
     "metadata": {},
     "output_type": "execute_result"
    }
   ],
   "source": [
    "df['Tenure'].value_counts()"
   ]
  },
  {
   "cell_type": "markdown",
   "metadata": {},
   "source": [
    "* Значения корректные"
   ]
  },
  {
   "cell_type": "code",
   "execution_count": 12,
   "metadata": {},
   "outputs": [
    {
     "data": {
      "text/plain": [
       "0"
      ]
     },
     "execution_count": 12,
     "metadata": {},
     "output_type": "execute_result"
    }
   ],
   "source": [
    "df.query('Balance < 0')['Balance'].count()"
   ]
  },
  {
   "cell_type": "markdown",
   "metadata": {},
   "source": [
    "* Значения корректные"
   ]
  },
  {
   "cell_type": "code",
   "execution_count": 13,
   "metadata": {},
   "outputs": [
    {
     "data": {
      "text/plain": [
       "1    5084\n",
       "2    4590\n",
       "3     266\n",
       "4      60\n",
       "Name: NumOfProducts, dtype: int64"
      ]
     },
     "execution_count": 13,
     "metadata": {},
     "output_type": "execute_result"
    }
   ],
   "source": [
    "df['NumOfProducts'].value_counts()"
   ]
  },
  {
   "cell_type": "markdown",
   "metadata": {},
   "source": [
    "* Значения корректные"
   ]
  },
  {
   "cell_type": "code",
   "execution_count": 14,
   "metadata": {},
   "outputs": [
    {
     "data": {
      "text/plain": [
       "1    7055\n",
       "0    2945\n",
       "Name: HasCrCard, dtype: int64"
      ]
     },
     "execution_count": 14,
     "metadata": {},
     "output_type": "execute_result"
    }
   ],
   "source": [
    "df['HasCrCard'].value_counts()"
   ]
  },
  {
   "cell_type": "markdown",
   "metadata": {},
   "source": [
    "* Значения корректные"
   ]
  },
  {
   "cell_type": "code",
   "execution_count": 15,
   "metadata": {},
   "outputs": [
    {
     "data": {
      "text/plain": [
       "1    5151\n",
       "0    4849\n",
       "Name: IsActiveMember, dtype: int64"
      ]
     },
     "execution_count": 15,
     "metadata": {},
     "output_type": "execute_result"
    }
   ],
   "source": [
    "df['IsActiveMember'].value_counts()"
   ]
  },
  {
   "cell_type": "markdown",
   "metadata": {},
   "source": [
    "* Значения корректные"
   ]
  },
  {
   "cell_type": "code",
   "execution_count": 16,
   "metadata": {},
   "outputs": [
    {
     "data": {
      "text/plain": [
       "0"
      ]
     },
     "execution_count": 16,
     "metadata": {},
     "output_type": "execute_result"
    }
   ],
   "source": [
    "df.query('EstimatedSalary < 0')['EstimatedSalary'].count()"
   ]
  },
  {
   "cell_type": "markdown",
   "metadata": {},
   "source": [
    "* Значения корректные"
   ]
  },
  {
   "cell_type": "code",
   "execution_count": 17,
   "metadata": {},
   "outputs": [
    {
     "data": {
      "text/plain": [
       "0    7963\n",
       "1    2037\n",
       "Name: Exited, dtype: int64"
      ]
     },
     "execution_count": 17,
     "metadata": {},
     "output_type": "execute_result"
    }
   ],
   "source": [
    "df['Exited'].value_counts()"
   ]
  },
  {
   "cell_type": "markdown",
   "metadata": {},
   "source": [
    "* Значения корректные"
   ]
  },
  {
   "cell_type": "markdown",
   "metadata": {},
   "source": [
    "### Прямое кодирование"
   ]
  },
  {
   "cell_type": "markdown",
   "metadata": {},
   "source": [
    "Проведём прямое кодирование, чтобы превести все значения к количественным "
   ]
  },
  {
   "cell_type": "code",
   "execution_count": 18,
   "metadata": {},
   "outputs": [],
   "source": [
    "df = pd.get_dummies(df, drop_first=True)"
   ]
  },
  {
   "cell_type": "code",
   "execution_count": 19,
   "metadata": {},
   "outputs": [
    {
     "name": "stdout",
     "output_type": "stream",
     "text": [
      "<class 'pandas.core.frame.DataFrame'>\n",
      "Int64Index: 10000 entries, 1 to 10000\n",
      "Data columns (total 12 columns):\n",
      " #   Column             Non-Null Count  Dtype  \n",
      "---  ------             --------------  -----  \n",
      " 0   CreditScore        10000 non-null  int64  \n",
      " 1   Age                10000 non-null  int64  \n",
      " 2   Tenure             10000 non-null  int32  \n",
      " 3   Balance            10000 non-null  float64\n",
      " 4   NumOfProducts      10000 non-null  int64  \n",
      " 5   HasCrCard          10000 non-null  int64  \n",
      " 6   IsActiveMember     10000 non-null  int64  \n",
      " 7   EstimatedSalary    10000 non-null  float64\n",
      " 8   Exited             10000 non-null  int64  \n",
      " 9   Geography_Germany  10000 non-null  uint8  \n",
      " 10  Geography_Spain    10000 non-null  uint8  \n",
      " 11  Gender_Male        10000 non-null  uint8  \n",
      "dtypes: float64(2), int32(1), int64(6), uint8(3)\n",
      "memory usage: 771.5 KB\n"
     ]
    }
   ],
   "source": [
    "df.info()"
   ]
  },
  {
   "cell_type": "code",
   "execution_count": 20,
   "metadata": {},
   "outputs": [
    {
     "data": {
      "text/html": [
       "<div>\n",
       "<style scoped>\n",
       "    .dataframe tbody tr th:only-of-type {\n",
       "        vertical-align: middle;\n",
       "    }\n",
       "\n",
       "    .dataframe tbody tr th {\n",
       "        vertical-align: top;\n",
       "    }\n",
       "\n",
       "    .dataframe thead th {\n",
       "        text-align: right;\n",
       "    }\n",
       "</style>\n",
       "<table border=\"1\" class=\"dataframe\">\n",
       "  <thead>\n",
       "    <tr style=\"text-align: right;\">\n",
       "      <th></th>\n",
       "      <th>CreditScore</th>\n",
       "      <th>Age</th>\n",
       "      <th>Tenure</th>\n",
       "      <th>Balance</th>\n",
       "      <th>NumOfProducts</th>\n",
       "      <th>HasCrCard</th>\n",
       "      <th>IsActiveMember</th>\n",
       "      <th>EstimatedSalary</th>\n",
       "      <th>Exited</th>\n",
       "      <th>Geography_Germany</th>\n",
       "      <th>Geography_Spain</th>\n",
       "      <th>Gender_Male</th>\n",
       "    </tr>\n",
       "    <tr>\n",
       "      <th>RowNumber</th>\n",
       "      <th></th>\n",
       "      <th></th>\n",
       "      <th></th>\n",
       "      <th></th>\n",
       "      <th></th>\n",
       "      <th></th>\n",
       "      <th></th>\n",
       "      <th></th>\n",
       "      <th></th>\n",
       "      <th></th>\n",
       "      <th></th>\n",
       "      <th></th>\n",
       "    </tr>\n",
       "  </thead>\n",
       "  <tbody>\n",
       "    <tr>\n",
       "      <th>1</th>\n",
       "      <td>619</td>\n",
       "      <td>42</td>\n",
       "      <td>2</td>\n",
       "      <td>0.00</td>\n",
       "      <td>1</td>\n",
       "      <td>1</td>\n",
       "      <td>1</td>\n",
       "      <td>101348.88</td>\n",
       "      <td>1</td>\n",
       "      <td>0</td>\n",
       "      <td>0</td>\n",
       "      <td>0</td>\n",
       "    </tr>\n",
       "    <tr>\n",
       "      <th>2</th>\n",
       "      <td>608</td>\n",
       "      <td>41</td>\n",
       "      <td>1</td>\n",
       "      <td>83807.86</td>\n",
       "      <td>1</td>\n",
       "      <td>0</td>\n",
       "      <td>1</td>\n",
       "      <td>112542.58</td>\n",
       "      <td>0</td>\n",
       "      <td>0</td>\n",
       "      <td>1</td>\n",
       "      <td>0</td>\n",
       "    </tr>\n",
       "    <tr>\n",
       "      <th>3</th>\n",
       "      <td>502</td>\n",
       "      <td>42</td>\n",
       "      <td>8</td>\n",
       "      <td>159660.80</td>\n",
       "      <td>3</td>\n",
       "      <td>1</td>\n",
       "      <td>0</td>\n",
       "      <td>113931.57</td>\n",
       "      <td>1</td>\n",
       "      <td>0</td>\n",
       "      <td>0</td>\n",
       "      <td>0</td>\n",
       "    </tr>\n",
       "    <tr>\n",
       "      <th>4</th>\n",
       "      <td>699</td>\n",
       "      <td>39</td>\n",
       "      <td>1</td>\n",
       "      <td>0.00</td>\n",
       "      <td>2</td>\n",
       "      <td>0</td>\n",
       "      <td>0</td>\n",
       "      <td>93826.63</td>\n",
       "      <td>0</td>\n",
       "      <td>0</td>\n",
       "      <td>0</td>\n",
       "      <td>0</td>\n",
       "    </tr>\n",
       "    <tr>\n",
       "      <th>5</th>\n",
       "      <td>850</td>\n",
       "      <td>43</td>\n",
       "      <td>2</td>\n",
       "      <td>125510.82</td>\n",
       "      <td>1</td>\n",
       "      <td>1</td>\n",
       "      <td>1</td>\n",
       "      <td>79084.10</td>\n",
       "      <td>0</td>\n",
       "      <td>0</td>\n",
       "      <td>1</td>\n",
       "      <td>0</td>\n",
       "    </tr>\n",
       "    <tr>\n",
       "      <th>6</th>\n",
       "      <td>645</td>\n",
       "      <td>44</td>\n",
       "      <td>8</td>\n",
       "      <td>113755.78</td>\n",
       "      <td>2</td>\n",
       "      <td>1</td>\n",
       "      <td>0</td>\n",
       "      <td>149756.71</td>\n",
       "      <td>1</td>\n",
       "      <td>0</td>\n",
       "      <td>1</td>\n",
       "      <td>1</td>\n",
       "    </tr>\n",
       "    <tr>\n",
       "      <th>7</th>\n",
       "      <td>822</td>\n",
       "      <td>50</td>\n",
       "      <td>7</td>\n",
       "      <td>0.00</td>\n",
       "      <td>2</td>\n",
       "      <td>1</td>\n",
       "      <td>1</td>\n",
       "      <td>10062.80</td>\n",
       "      <td>0</td>\n",
       "      <td>0</td>\n",
       "      <td>0</td>\n",
       "      <td>1</td>\n",
       "    </tr>\n",
       "    <tr>\n",
       "      <th>8</th>\n",
       "      <td>376</td>\n",
       "      <td>29</td>\n",
       "      <td>4</td>\n",
       "      <td>115046.74</td>\n",
       "      <td>4</td>\n",
       "      <td>1</td>\n",
       "      <td>0</td>\n",
       "      <td>119346.88</td>\n",
       "      <td>1</td>\n",
       "      <td>1</td>\n",
       "      <td>0</td>\n",
       "      <td>0</td>\n",
       "    </tr>\n",
       "    <tr>\n",
       "      <th>9</th>\n",
       "      <td>501</td>\n",
       "      <td>44</td>\n",
       "      <td>4</td>\n",
       "      <td>142051.07</td>\n",
       "      <td>2</td>\n",
       "      <td>0</td>\n",
       "      <td>1</td>\n",
       "      <td>74940.50</td>\n",
       "      <td>0</td>\n",
       "      <td>0</td>\n",
       "      <td>0</td>\n",
       "      <td>1</td>\n",
       "    </tr>\n",
       "    <tr>\n",
       "      <th>10</th>\n",
       "      <td>684</td>\n",
       "      <td>27</td>\n",
       "      <td>2</td>\n",
       "      <td>134603.88</td>\n",
       "      <td>1</td>\n",
       "      <td>1</td>\n",
       "      <td>1</td>\n",
       "      <td>71725.73</td>\n",
       "      <td>0</td>\n",
       "      <td>0</td>\n",
       "      <td>0</td>\n",
       "      <td>1</td>\n",
       "    </tr>\n",
       "  </tbody>\n",
       "</table>\n",
       "</div>"
      ],
      "text/plain": [
       "           CreditScore  Age  Tenure    Balance  NumOfProducts  HasCrCard  \\\n",
       "RowNumber                                                                  \n",
       "1                  619   42       2       0.00              1          1   \n",
       "2                  608   41       1   83807.86              1          0   \n",
       "3                  502   42       8  159660.80              3          1   \n",
       "4                  699   39       1       0.00              2          0   \n",
       "5                  850   43       2  125510.82              1          1   \n",
       "6                  645   44       8  113755.78              2          1   \n",
       "7                  822   50       7       0.00              2          1   \n",
       "8                  376   29       4  115046.74              4          1   \n",
       "9                  501   44       4  142051.07              2          0   \n",
       "10                 684   27       2  134603.88              1          1   \n",
       "\n",
       "           IsActiveMember  EstimatedSalary  Exited  Geography_Germany  \\\n",
       "RowNumber                                                               \n",
       "1                       1        101348.88       1                  0   \n",
       "2                       1        112542.58       0                  0   \n",
       "3                       0        113931.57       1                  0   \n",
       "4                       0         93826.63       0                  0   \n",
       "5                       1         79084.10       0                  0   \n",
       "6                       0        149756.71       1                  0   \n",
       "7                       1         10062.80       0                  0   \n",
       "8                       0        119346.88       1                  1   \n",
       "9                       1         74940.50       0                  0   \n",
       "10                      1         71725.73       0                  0   \n",
       "\n",
       "           Geography_Spain  Gender_Male  \n",
       "RowNumber                                \n",
       "1                        0            0  \n",
       "2                        1            0  \n",
       "3                        0            0  \n",
       "4                        0            0  \n",
       "5                        1            0  \n",
       "6                        1            1  \n",
       "7                        0            1  \n",
       "8                        0            0  \n",
       "9                        0            1  \n",
       "10                       0            1  "
      ]
     },
     "execution_count": 20,
     "metadata": {},
     "output_type": "execute_result"
    }
   ],
   "source": [
    "df.head(10)"
   ]
  },
  {
   "cell_type": "markdown",
   "metadata": {},
   "source": [
    "###### Вывод\n",
    "* Данные подготовленны, можно приступать к исследованию задачи"
   ]
  },
  {
   "cell_type": "markdown",
   "metadata": {},
   "source": [
    "## Исследование задачи"
   ]
  },
  {
   "cell_type": "markdown",
   "metadata": {},
   "source": [
    "### Разбивка данных на выборки"
   ]
  },
  {
   "cell_type": "markdown",
   "metadata": {},
   "source": [
    "Извелекём из выборки признаки и целевой признак"
   ]
  },
  {
   "cell_type": "code",
   "execution_count": 21,
   "metadata": {},
   "outputs": [],
   "source": [
    "features = df.drop('Exited', axis=1)\n",
    "target = df['Exited']"
   ]
  },
  {
   "cell_type": "markdown",
   "metadata": {},
   "source": [
    "Разобьём нашу выборку на обучающую и тестовую, в соотношение 3 к 2, а затем разобьём тестовую выборку на две равные часть: вылидационную и тестовую. В итоге получим соотношение 3:1:1 - обучающая:валидационная:тестовая. "
   ]
  },
  {
   "cell_type": "code",
   "execution_count": 22,
   "metadata": {},
   "outputs": [],
   "source": [
    "features_train, features_test, target_train, target_test = train_test_split(\n",
    "    features, target, test_size=0.4, random_state=12345)\n",
    "features_valid, features_test, target_valid, target_test = train_test_split(\n",
    "    features_test, target_test, test_size=0.5, random_state=12345) "
   ]
  },
  {
   "cell_type": "markdown",
   "metadata": {},
   "source": [
    "Проверим итоговые размеры и соотношения полученных выборок"
   ]
  },
  {
   "cell_type": "code",
   "execution_count": 23,
   "metadata": {},
   "outputs": [
    {
     "name": "stdout",
     "output_type": "stream",
     "text": [
      "Итоговые размеры выборок, обучающая:валидационная:тестовая: 6000:2000:2000\n"
     ]
    }
   ],
   "source": [
    "print(f'Итоговые размеры выборок, обучающая:валидационная:тестовая: {target_train.count()}\\\n",
    ":{target_valid.count()}:{target_test.count()}')"
   ]
  },
  {
   "cell_type": "markdown",
   "metadata": {},
   "source": [
    "### Исследование баланса классов"
   ]
  },
  {
   "cell_type": "code",
   "execution_count": 24,
   "metadata": {},
   "outputs": [
    {
     "name": "stdout",
     "output_type": "stream",
     "text": [
      "Соотношение клиентов покинувших банк и клиентов верных банку: 2037:7963\n"
     ]
    }
   ],
   "source": [
    "target_zeros = target[target == 0].count()\n",
    "target_ones = target[target == 1].count()\n",
    "print(f'Соотношение клиентов покинувших банк и клиентов верных банку: {target_ones}:{target_zeros}')"
   ]
  },
  {
   "cell_type": "markdown",
   "metadata": {},
   "source": [
    "* Разница между классами в четыре раза, попробуем устранить этот дисбаланс в пункте 3."
   ]
  },
  {
   "cell_type": "markdown",
   "metadata": {},
   "source": [
    "### Масштабирование признаков"
   ]
  },
  {
   "cell_type": "markdown",
   "metadata": {},
   "source": [
    "Масштабируем выбоки: features_train, features_valid и features_test. Запишим их в новые переменные."
   ]
  },
  {
   "cell_type": "code",
   "execution_count": 25,
   "metadata": {},
   "outputs": [],
   "source": [
    "scaler = StandardScaler()\n",
    "scaler.fit(features_train) \n",
    "features_train_scaled = scaler.transform(features_train)\n",
    "features_valid_scaled = scaler.transform(features_valid)\n",
    "features_test_scaled = scaler.transform(features_test) "
   ]
  },
  {
   "cell_type": "markdown",
   "metadata": {},
   "source": [
    "* Данные готовы, можно приступать к исследованию"
   ]
  },
  {
   "cell_type": "markdown",
   "metadata": {},
   "source": [
    "### Случайный лес"
   ]
  },
  {
   "cell_type": "markdown",
   "metadata": {},
   "source": [
    "Переберём различные варианты гиперпараметров: кол-во деревьев от 20 до 100 и глубину леса от 2 до 16, чтобы найти предельное значение F1-меры и AUC-ROC."
   ]
  },
  {
   "cell_type": "code",
   "execution_count": 26,
   "metadata": {},
   "outputs": [
    {
     "name": "stdout",
     "output_type": "stream",
     "text": [
      "Лучшая модель с предельным значением F1-меры: 0.5946. Значение AUC-ROC: 0.8423. Значения гиперпараметров: кол-во деревьев - 40, глубина леса - 12.\n",
      "Лучшая модель с предельным значением AUC-ROC: 0.8536. Значения гиперпараметров: кол-во деревьев - 100, глубина леса - 8.\n"
     ]
    }
   ],
   "source": [
    "best_model_f1 = None\n",
    "best_depth_f1 = 0\n",
    "best_est_f1 = 0\n",
    "best_f1 = 0\n",
    "best_auc_roc_for_f1 = 0\n",
    "\n",
    "best_model_auc_roc = None\n",
    "best_depth = 0\n",
    "best_est = 0\n",
    "best_auc_roc = 0\n",
    "\n",
    "for est in range(20, 101, 10):\n",
    "    for depth in range(2, 16, 1):\n",
    "        \n",
    "        model = RandomForestClassifier(n_estimators=est, max_depth=depth, random_state=12345)\n",
    "        model.fit(features_train_scaled, target_train)\n",
    "        \n",
    "        predicted_valid = model.predict(features_valid_scaled)\n",
    "        f1 = f1_score(target_valid, predicted_valid)\n",
    "        \n",
    "        probabilities_valid = model.predict_proba(features_valid_scaled)\n",
    "        probabilities_one_valid = probabilities_valid[:, 1]\n",
    "        auc_roc = roc_auc_score(target_valid, probabilities_one_valid)\n",
    "\n",
    "        if f1 > best_f1:\n",
    "            best_model_f1 = model\n",
    "            best_est_f1 = est\n",
    "            best_depth_f1 = depth\n",
    "            best_f1 = f1\n",
    "            best_auc_roc_for_f1 = auc_roc\n",
    "        \n",
    "        if auc_roc > best_auc_roc:\n",
    "            best_model_auc_roc = model\n",
    "            best_est_auc_roc = est\n",
    "            best_depth_auc_roc = depth\n",
    "            best_auc_roc = auc_roc\n",
    "            \n",
    "print(f'Лучшая модель с предельным значением F1-меры: {best_f1:.4}. '\n",
    "       f'Значение AUC-ROC: {best_auc_roc_for_f1:.4}. '\n",
    "       f'Значения гиперпараметров: кол-во деревьев - {best_est_f1}, глубина леса - {best_depth_f1}.')\n",
    "\n",
    "print(f'Лучшая модель с предельным значением AUC-ROC: {best_auc_roc:.4}. '\n",
    "       f'Значения гиперпараметров: кол-во деревьев - {best_est_auc_roc}, глубина леса - {best_depth_auc_roc}.')"
   ]
  },
  {
   "cell_type": "markdown",
   "metadata": {},
   "source": [
    "### Логистическая регрессия"
   ]
  },
  {
   "cell_type": "markdown",
   "metadata": {},
   "source": [
    "Найдём значение F1-меры для логистической регрессии"
   ]
  },
  {
   "cell_type": "code",
   "execution_count": 27,
   "metadata": {},
   "outputs": [
    {
     "name": "stdout",
     "output_type": "stream",
     "text": [
      "Значение F1-меры на валидационной выборке: 0.3333\n"
     ]
    }
   ],
   "source": [
    "model = LogisticRegression(random_state=12345, solver='liblinear')\n",
    "model.fit(features_train_scaled, target_train)\n",
    "predicted_valid = model.predict(features_valid_scaled)\n",
    "f1 = f1_score(target_valid, predicted_valid)\n",
    "print(f'Значение F1-меры на валидационной выборке: {f1:.4}')"
   ]
  },
  {
   "cell_type": "markdown",
   "metadata": {},
   "source": [
    "Найдём значение AUC-ROC для логичтической регрессии"
   ]
  },
  {
   "cell_type": "code",
   "execution_count": 28,
   "metadata": {},
   "outputs": [
    {
     "name": "stdout",
     "output_type": "stream",
     "text": [
      "Значение AUC-ROC на валидационной выборке: 0.5007\n"
     ]
    }
   ],
   "source": [
    "probabilities_valid = model.predict_proba(features_valid)\n",
    "probabilities_one_valid = probabilities_valid[:, 1]\n",
    "print('Значение AUC-ROC на валидационной выборке:', round(roc_auc_score(target_valid, probabilities_one_valid), 4))"
   ]
  },
  {
   "cell_type": "markdown",
   "metadata": {},
   "source": [
    "###### Вывод"
   ]
  },
  {
   "cell_type": "markdown",
   "metadata": {},
   "source": [
    "Получили низкие результы, показатель AUC-ROC на уровне константной модели. "
   ]
  },
  {
   "cell_type": "markdown",
   "metadata": {},
   "source": [
    "### Вывод"
   ]
  },
  {
   "cell_type": "markdown",
   "metadata": {},
   "source": [
    "* Наилучший результат получили с помощью модели - случайный лес. Предельное значение F1-меры: 0.5946, значение AUC-ROC: 0.8423. Данные предельные значения получены при следующих гиперпараметрах: кол-во деревьев - 40, глубина леса - 12.\n",
    "* С помощью модели линейной регрессии были получены низкие результаты: значение F1-меры: 0.3333,  значение AUC-ROC: 0.5007.\n",
    "* Для улучшения результатов попробуем выровнять баланс классов."
   ]
  },
  {
   "cell_type": "markdown",
   "metadata": {},
   "source": [
    "## Борьба с дисбалансом"
   ]
  },
  {
   "cell_type": "markdown",
   "metadata": {},
   "source": [
    "### Взвешивание классов"
   ]
  },
  {
   "cell_type": "markdown",
   "metadata": {},
   "source": [
    " Выставим значение class_weight = 'balanced', чтобы уровнять баланс классов, путем присваивания классам различного веса."
   ]
  },
  {
   "cell_type": "markdown",
   "metadata": {},
   "source": [
    "#### Случайный лес"
   ]
  },
  {
   "cell_type": "markdown",
   "metadata": {},
   "source": [
    "Переберём различные варианты гиперпараметров: кол-во деревьев от 20 до 100 и глубину леса от 2 до 11, чтобы найти предельное значение F1-меры и AUC-ROC."
   ]
  },
  {
   "cell_type": "code",
   "execution_count": 29,
   "metadata": {},
   "outputs": [
    {
     "name": "stdout",
     "output_type": "stream",
     "text": [
      "Лучшая модель с предельным значением F1-меры: 0.63. Значение AUC-ROC: 0.85. Значения гиперпараметров: кол-во деревьев - 50, глубина леса - 8.\n",
      "Лучшая модель с предельным значением AUC-ROC: 0.8564. Значения гиперпараметров: кол-во деревьев - 100, глубина леса - 8.\n"
     ]
    }
   ],
   "source": [
    "best_model_balanced_f1 = None\n",
    "best_depth_f1 = 0\n",
    "best_est_f1 = 0\n",
    "best_f1 = 0\n",
    "best_auc_roc_for_f1 = 0\n",
    "\n",
    "best_model_balanced_auc_roc = None\n",
    "best_depth = 0\n",
    "best_est = 0\n",
    "best_auc_roc = 0\n",
    "\n",
    "for est in range(20, 101, 10):\n",
    "    for depth in range(2, 12, 1):\n",
    "        \n",
    "        model = RandomForestClassifier(n_estimators=est, max_depth=depth, class_weight='balanced', random_state=12345)\n",
    "        model.fit(features_train_scaled, target_train)\n",
    "        \n",
    "        predicted_valid = model.predict(features_valid_scaled)\n",
    "        f1 = f1_score(target_valid, predicted_valid)\n",
    "        \n",
    "        probabilities_valid = model.predict_proba(features_valid_scaled)\n",
    "        probabilities_one_valid = probabilities_valid[:, 1]\n",
    "        auc_roc = roc_auc_score(target_valid, probabilities_one_valid)\n",
    "\n",
    "        if f1 > best_f1:\n",
    "            best_model_balanced_f1 = model\n",
    "            best_est_f1 = est\n",
    "            best_depth_f1 = depth\n",
    "            best_f1 = round(f1, 4)\n",
    "            best_auc_roc_for_f1 = round(auc_roc, 4)\n",
    "        \n",
    "        if auc_roc > best_auc_roc:\n",
    "            best_model_balanced_auc_roc = model\n",
    "            best_est_auc_roc = est\n",
    "            best_depth_auc_roc = depth\n",
    "            best_auc_roc = auc_roc\n",
    "            \n",
    "print(f'Лучшая модель с предельным значением F1-меры: {best_f1:.4}. '\n",
    "       f'Значение AUC-ROC: {best_auc_roc_for_f1:.4}. '\n",
    "       f'Значения гиперпараметров: кол-во деревьев - {best_est_f1}, глубина леса - {best_depth_f1}.')\n",
    "\n",
    "print(f'Лучшая модель с предельным значением AUC-ROC: {best_auc_roc:.4}. '\n",
    "       f'Значения гиперпараметров: кол-во деревьев - {best_est_auc_roc}, глубина леса - {best_depth_auc_roc}.')"
   ]
  },
  {
   "cell_type": "markdown",
   "metadata": {},
   "source": [
    "* Значения улучшились в сравнение с исследованием без баланса классов. Предельное значение F1-меры выросло до 0,6346 с 0,5946, значение AUC-ROC выросло до 0,8571 с 0.8423. Данные предельные значения получены при следующих гиперпараметрах: кол-во деревьев - 70, глубина леса - 7."
   ]
  },
  {
   "cell_type": "markdown",
   "metadata": {},
   "source": [
    "Создадим пустой датафрейм для записи результатов моделей и запишем результаты текущей модели"
   ]
  },
  {
   "cell_type": "code",
   "execution_count": 32,
   "metadata": {},
   "outputs": [],
   "source": [
    "table_estimation = pd.DataFrame(columns=['Name model','imbalance', 'F1', 'AUC-ROC'])\n",
    "table_estimation = table_estimation.append({'Name model':'Random Forest','imbalance':'class weight', 'F1':best_f1,\n",
    "                                            'AUC-ROC':best_auc_roc_for_f1}, ignore_index=True)"
   ]
  },
  {
   "cell_type": "markdown",
   "metadata": {},
   "source": [
    "#### Логистическая регрессия"
   ]
  },
  {
   "cell_type": "markdown",
   "metadata": {},
   "source": [
    "Найдём значение F1-меры для логистической регрессии."
   ]
  },
  {
   "cell_type": "code",
   "execution_count": 33,
   "metadata": {},
   "outputs": [
    {
     "name": "stdout",
     "output_type": "stream",
     "text": [
      "Значение F1-меры на валидационной выборке: 0.4889\n"
     ]
    }
   ],
   "source": [
    "model = LogisticRegression(class_weight='balanced', solver='liblinear', random_state=12345)\n",
    "model.fit(features_train_scaled, target_train)\n",
    "predicted_valid = model.predict(features_valid_scaled)\n",
    "f1 = f1_score(target_valid, predicted_valid)\n",
    "print(f'Значение F1-меры на валидационной выборке: {f1:.4}')"
   ]
  },
  {
   "cell_type": "markdown",
   "metadata": {},
   "source": [
    "Найдём значение AUC-ROC для логичтической регрессии"
   ]
  },
  {
   "cell_type": "code",
   "execution_count": 34,
   "metadata": {},
   "outputs": [
    {
     "name": "stdout",
     "output_type": "stream",
     "text": [
      "Значение AUC-ROC на валидационной выборке: 0.501\n"
     ]
    }
   ],
   "source": [
    "probabilities_valid = model.predict_proba(features_valid)\n",
    "probabilities_one_valid = probabilities_valid[:, 1]\n",
    "print('Значение AUC-ROC на валидационной выборке:', round(roc_auc_score(target_valid, probabilities_one_valid), 4))"
   ]
  },
  {
   "cell_type": "markdown",
   "metadata": {},
   "source": [
    "* Значения улучшились в сравнение с исследованием без баланса классов. Предельное значение F1-меры выросло до 0,4889 с 0,3333, значение AUC-ROC выросло до 0,501 с 0.5007, но значения по прежнему очень сильно отстают от показателей модели - случайный лес."
   ]
  },
  {
   "cell_type": "markdown",
   "metadata": {},
   "source": [
    "### Увеличение выборки"
   ]
  },
  {
   "cell_type": "markdown",
   "metadata": {},
   "source": [
    "Напишем функцию, которая дублирует записи с клиентами прекратившими пользоваться услугами банка.\n",
    "На вход функция получает выборки: из признаков, целевого признака и кол-ва дублирований.\n",
    "На выход функция отдаёт увеличенные выборки."
   ]
  },
  {
   "cell_type": "code",
   "execution_count": 35,
   "metadata": {},
   "outputs": [],
   "source": [
    "def upsample(features, target, repeat):\n",
    "    features_zeros = features[target == 0]\n",
    "    features_ones = features[target == 1]\n",
    "    target_zeros = target[target == 0]\n",
    "    target_ones = target[target == 1]\n",
    "    features_upsampled = pd.concat([features_zeros] + [features_ones]*repeat)\n",
    "    target_upsampled = pd.concat([target_zeros] + [target_ones]*repeat)\n",
    "    \n",
    "    return shuffle(features_upsampled, target_upsampled, random_state=12345)"
   ]
  },
  {
   "cell_type": "markdown",
   "metadata": {},
   "source": [
    "Увеличим в выборке число записей с клиентами прекратившими пользоваться услугами банка  от 2 до 5 раз с помощью функции upsample и масштабируем её, далее переберём различные варианты гиперпараметров: кол-во деревьев от 20 до 100 и глубину леса от 2 до 13, чтобы найти предельное значение F1-меры и AUC-ROC."
   ]
  },
  {
   "cell_type": "code",
   "execution_count": 36,
   "metadata": {},
   "outputs": [
    {
     "name": "stdout",
     "output_type": "stream",
     "text": [
      "Лучшая модель с предельным значением F1-меры: 0.6331. Значение AUC-ROC: 0.849. 3 раза продублировали кол-во записей с клиентами, которые отказались от услуг банка. Значения гиперпараметров: кол-во деревьев - 80, глубина леса - 11.\n",
      "Лучшая модель с предельным значением AUC-ROC: 0.8558. 2 раза продублировали кол-во записей с клиентами, которые отказались от услуг банка. Значения гиперпараметров: кол-во деревьев - 100, глубина леса - 8.\n"
     ]
    }
   ],
   "source": [
    "best_model_upsample_f1 = None\n",
    "best_depth_f1 = 0\n",
    "best_est_f1 = 0\n",
    "best_f1 = 0\n",
    "best_repeat_f1 = 0\n",
    "best_auc_roc_for_f1 = 0\n",
    "\n",
    "best_model_upsample_auc_roc = None\n",
    "best_depth = 0\n",
    "best_est = 0\n",
    "best_repeat_auc_roc = 0\n",
    "best_auc_roc = 0\n",
    "\n",
    "for repeat in range(2, 6, 1):\n",
    "    features_upsampled, target_upsampled = upsample(features_train, target_train, repeat)\n",
    "    scaler.fit(features_upsampled)\n",
    "    features_upsampled_scaled = scaler.transform(features_upsampled)\n",
    "    \n",
    "    for est in range(20, 101, 10):\n",
    "        for depth in range(2, 14, 1):\n",
    "        \n",
    "            model = RandomForestClassifier(n_estimators=est, max_depth=depth, random_state=12345)\n",
    "            model.fit(features_upsampled_scaled, target_upsampled)\n",
    "\n",
    "            predicted_valid = model.predict(features_valid_scaled)\n",
    "            f1 = f1_score(target_valid, predicted_valid)\n",
    "\n",
    "            probabilities_valid = model.predict_proba(features_valid_scaled)\n",
    "            probabilities_one_valid = probabilities_valid[:, 1]\n",
    "            auc_roc = roc_auc_score(target_valid, probabilities_one_valid)\n",
    "\n",
    "            if f1 > best_f1:\n",
    "                best_model_upsample_f1 = model\n",
    "                best_est_f1 = est\n",
    "                best_depth_f1 = depth\n",
    "                best_f1 = f1\n",
    "                best_repeat_f1 = repeat\n",
    "                best_auc_roc_for_f1 = auc_roc\n",
    "\n",
    "            if auc_roc > best_auc_roc:\n",
    "                best_model_upsample_auc_roc = model\n",
    "                best_est_auc_roc = est\n",
    "                best_depth_auc_roc = depth\n",
    "                best_repeat_auc_roc  = repeat\n",
    "                best_auc_roc = auc_roc\n",
    "\n",
    "print(f'Лучшая модель с предельным значением F1-меры: {best_f1:.4}. '\n",
    "       f'Значение AUC-ROC: {best_auc_roc_for_f1:.4}. '\n",
    "       f'{best_repeat_f1} раза продублировали кол-во записей с клиентами, которые отказались от услуг банка. '\n",
    "       f'Значения гиперпараметров: кол-во деревьев - {best_est_f1}, глубина леса - {best_depth_f1}.')\n",
    "\n",
    "print(f'Лучшая модель с предельным значением AUC-ROC: {best_auc_roc:.4}. '\n",
    "      f'{best_repeat_auc_roc} раза продублировали кол-во записей с клиентами, которые отказались от услуг банка. '\n",
    "      f'Значения гиперпараметров: кол-во деревьев - {best_est_auc_roc}, глубина леса - {best_depth_auc_roc}.')"
   ]
  },
  {
   "cell_type": "markdown",
   "metadata": {},
   "source": [
    "* Получили значения чуть ниже, в сравнение с методом \"взвешивание классов\". Значение F1-меры - 0.6331, против 0,6346, значение AUC-ROC - 0.849, против 0,8571. Данные предельные значения получены при увеличение в три раза числа записей с клиентами прекратившими пользоваться услугами банка и при следующих гиперпараметрах: кол-во деревьев - 80, глубина леса - 11."
   ]
  },
  {
   "cell_type": "markdown",
   "metadata": {},
   "source": [
    "### Уменьшение выборки"
   ]
  },
  {
   "cell_type": "markdown",
   "metadata": {},
   "source": [
    "Напишем функцию, которая удаляет часть записей с клиентами, которые продолжают пользоваться услугами банка.\n",
    "На вход функция получает выборки: из признаков, целевого признака и процент записей, которые нужно оставить.\n",
    "На выход функция отдаёт уменьшенные выборки."
   ]
  },
  {
   "cell_type": "code",
   "execution_count": 37,
   "metadata": {},
   "outputs": [],
   "source": [
    "def downsample(features, target, fraction):\n",
    "    features_zeros = features[target == 0]\n",
    "    features_ones = features[target == 1]\n",
    "    target_zeros = target[target == 0]\n",
    "    target_ones = target[target == 1]\n",
    "    features_upsampled = pd.concat([features_zeros.sample(frac=fraction, random_state=12345)] + [features_ones])\n",
    "    target_upsampled = pd.concat([target_zeros.sample(frac=fraction, random_state=12345)] + [target_ones])\n",
    "    \n",
    "    return shuffle(features_upsampled, target_upsampled, random_state=12345)    "
   ]
  },
  {
   "cell_type": "markdown",
   "metadata": {},
   "source": [
    "Уменьшим в выборке число записей с клиентами, которые продолжают пользоваться услугами банка на 50-90% с помощью функции downsample и масштабируем её, далее переберём различные варианты гиперпараметров: кол-во деревьев от 20 до 100 и глубину леса от 2 до 13, чтобы найти предельное значение F1-меры и AUC-ROC."
   ]
  },
  {
   "cell_type": "code",
   "execution_count": 38,
   "metadata": {},
   "outputs": [
    {
     "name": "stdout",
     "output_type": "stream",
     "text": [
      "Лучшая модель с предельным значением F1-меры: 0.6396. Значение AUC-ROC: 0.8498. Уменьшили на 60.00% кол-во записей с клиентами, которые продолжают пользоваться услугами банка. Значения гиперпараметров: кол-во деревьев - 50, глубина леса - 7.\n",
      "Лучшая модель с предельным значением AUC-ROC: 0.8541. Уменьшили на 50.00% кол-во записей с клиентами, которые продолжают пользоваться услугами банка. Значения гиперпараметров: кол-во деревьев - 80, глубина леса - 9.\n"
     ]
    }
   ],
   "source": [
    "best_model_downsample_f1 = None\n",
    "best_depth_f1 = 0\n",
    "best_est_f1 = 0\n",
    "best_f1 = 0\n",
    "best_fraction_f1 = 0\n",
    "best_auc_roc_for_f1 = 0\n",
    "\n",
    "best_model_downsample_auc_roc = None\n",
    "best_depth = 0\n",
    "best_est = 0\n",
    "best_fraction_auc_roc = 0\n",
    "best_auc_roc = 0\n",
    "\n",
    "for fraction in np.arange(0.1, 0.51, 0.1):\n",
    "    features_downsampled, target_downsampled = downsample(features_train, target_train, fraction)\n",
    "    scaler.fit(features_downsampled)\n",
    "    features_downsampled_scaled = scaler.transform(features_downsampled)\n",
    "    \n",
    "    for est in range(20, 101, 10):\n",
    "        for depth in range(2, 14, 1):\n",
    "        \n",
    "            model = RandomForestClassifier(n_estimators=est, max_depth=depth, random_state=12345)\n",
    "            model.fit(features_downsampled_scaled, target_downsampled)\n",
    "\n",
    "            predicted_valid = model.predict(features_valid_scaled)\n",
    "            f1 = f1_score(target_valid, predicted_valid)\n",
    "\n",
    "            probabilities_valid = model.predict_proba(features_valid_scaled)\n",
    "            probabilities_one_valid = probabilities_valid[:, 1]\n",
    "            auc_roc = roc_auc_score(target_valid, probabilities_one_valid)\n",
    "\n",
    "            if f1 > best_f1:\n",
    "                best_model_downsample_f1 = model\n",
    "                best_est_f1 = est\n",
    "                best_depth_f1 = depth\n",
    "                best_f1 = f1\n",
    "                best_fraction_f1 = fraction\n",
    "                best_auc_roc_for_f1 = auc_roc\n",
    "\n",
    "            if auc_roc > best_auc_roc:\n",
    "                best_model_downsample_auc_roc = model\n",
    "                best_est_auc_roc = est\n",
    "                best_depth_auc_roc = depth\n",
    "                best_fraction_auc_roc  = fraction\n",
    "                best_auc_roc = auc_roc\n",
    "\n",
    "print(f'Лучшая модель с предельным значением F1-меры: {best_f1:.4}. '\n",
    "       f'Значение AUC-ROC: {best_auc_roc_for_f1:.4}. '\n",
    "       f'Уменьшили на {1-best_fraction_f1:.2%} кол-во записей с клиентами, которые продолжают пользоваться услугами банка. '\n",
    "       f'Значения гиперпараметров: кол-во деревьев - {best_est_f1}, глубина леса - {best_depth_f1}.')\n",
    "\n",
    "print(f'Лучшая модель с предельным значением AUC-ROC: {best_auc_roc:.4}. '\n",
    "      f'Уменьшили на {1-best_fraction_auc_roc:.2%} кол-во записей с клиентами, которые продолжают пользоваться услугами банка. '\n",
    "      f'Значения гиперпараметров: кол-во деревьев - {best_est_auc_roc}, глубина леса - {best_depth_auc_roc}.')"
   ]
  },
  {
   "cell_type": "markdown",
   "metadata": {},
   "source": [
    "* Получили значение f1-меры чуть выше, в сравнение с методом \"взвешивание классов\". Значение F1-меры - 0.6396, против 0,6346, значение AUC-ROC - 0.8498, против 0,8541. Данные предельные значения получены при уменьшение на 60% числа записей с клиентами продолжающими пользоваться услугами банка и при следующих гиперпараметрах: кол-во деревьев - 50, глубина леса - 7."
   ]
  },
  {
   "cell_type": "markdown",
   "metadata": {},
   "source": [
    "### Изменение порога классификации"
   ]
  },
  {
   "cell_type": "markdown",
   "metadata": {},
   "source": [
    "#### Случайный лес"
   ]
  },
  {
   "cell_type": "markdown",
   "metadata": {},
   "source": [
    "Переберём различные варианты гиперпараметров: кол-во деревьев от 20 до 60 и глубину леса от 3 до 11 и различные варинты порога классификации от 0,16 до 0,36 с шагом 0,02, чтобы найти предельное значение F1-меры и AUC-ROC."
   ]
  },
  {
   "cell_type": "code",
   "execution_count": 39,
   "metadata": {},
   "outputs": [
    {
     "name": "stdout",
     "output_type": "stream",
     "text": [
      "Лучшая модель с предельным значением F1-меры: 0.6372. Значение AUC-ROC: 0.8492. Значения гиперпараметров: кол-во деревьев - 30, глубина леса - 9, порог классификации - 0.28\n",
      "Лучшая модель с предельным значением AUC-ROC: 0.8531. Значения гиперпараметров: кол-во деревьев - 60, глубина леса - 7, порог классификации - 0.28\n"
     ]
    }
   ],
   "source": [
    "best_model_threshold_f1 = None\n",
    "best_depth_f1 = 0\n",
    "best_est_f1 = 0\n",
    "best_f1 = 0\n",
    "best_threshold_f1 = 0\n",
    "best_auc_roc_for_f1 = 0\n",
    "\n",
    "best_model_threshold_auc_roc = None\n",
    "best_depth = 0\n",
    "best_est = 0\n",
    "best_threshold_auc_roc = 0\n",
    "best_auc_roc = 0\n",
    "\n",
    "for est in range(20, 61, 10):\n",
    "    for depth in range(3, 12, 1):\n",
    "        for threshold in np.arange(0.16, 0.36, 0.02):\n",
    "            model = RandomForestClassifier(n_estimators=est, max_depth=depth, random_state=12345)\n",
    "            model.fit(features_train, target_train)\n",
    "            \n",
    "            probabilities_valid = model.predict_proba(features_valid)\n",
    "            probabilities_one_valid = probabilities_valid[:, 1]\n",
    "            \n",
    "            predicted_valid = probabilities_one_valid > threshold\n",
    "            \n",
    "            f1 = f1_score(target_valid, predicted_valid)\n",
    "            auc_roc = roc_auc_score(target_valid, probabilities_one_valid)\n",
    "            \n",
    "\n",
    "            if f1 > best_f1:\n",
    "                best_model_threshold_f1 = model\n",
    "                best_est_f1 = est\n",
    "                best_depth_f1 = depth\n",
    "                best_f1 = f1\n",
    "                best_threshold_f1 = threshold\n",
    "                best_auc_roc_for_f1 = auc_roc\n",
    "\n",
    "            if auc_roc > best_auc_roc:\n",
    "                best_model_threshold_auc_roc = model\n",
    "                best_est_auc_roc = est\n",
    "                best_depth_auc_roc = depth\n",
    "                best_threshold_auc_roc = threshold\n",
    "                best_auc_roc = auc_roc\n",
    "                \n",
    "print(f'Лучшая модель с предельным значением F1-меры: {best_f1:.4}. '\n",
    "       f'Значение AUC-ROC: {best_auc_roc_for_f1:.4}. '\n",
    "       f'Значения гиперпараметров: кол-во деревьев - {best_est_f1}, глубина леса - {best_depth_f1}, '\n",
    "       f'порог классификации - {best_threshold_f1:.2}')\n",
    "\n",
    "print(f'Лучшая модель с предельным значением AUC-ROC: {best_auc_roc:.4}. '\n",
    "      f'Значения гиперпараметров: кол-во деревьев - {best_est_auc_roc}, глубина леса - {best_depth_auc_roc}, '\n",
    "      f'порог классификации - {best_threshold_f1:.2}')"
   ]
  },
  {
   "cell_type": "markdown",
   "metadata": {},
   "source": [
    "* Получили значение чуть ниже, в сравнение с методом \"уменьшения выборки\". Значение F1-меры - 0.6372, против 0,6396, значение AUC-ROC - 0.8492, против 0,8498. Данные предельные значения получены при пороге классификации равном 0,28 и при следующих гиперпараметрах: кол-во деревьев - 30, глубина леса - 9."
   ]
  },
  {
   "cell_type": "markdown",
   "metadata": {},
   "source": [
    "#### Логистическая регрессия"
   ]
  },
  {
   "cell_type": "markdown",
   "metadata": {},
   "source": [
    "Зададим модель логичтической регрессии и обучим её."
   ]
  },
  {
   "cell_type": "code",
   "execution_count": 40,
   "metadata": {},
   "outputs": [],
   "source": [
    "model = LogisticRegression(solver='liblinear', random_state=12345)\n",
    "model.fit(features_train_scaled, target_train)\n",
    "probabilities_valid = model.predict_proba(features_valid_scaled)\n",
    "probabilities_one_valid = probabilities_valid[:, 1]"
   ]
  },
  {
   "cell_type": "markdown",
   "metadata": {},
   "source": [
    "Переберём различные варинты порога классификации от 0,11 до 0,5 с шагом 0,01, чтобы найти предельное значение F1-меры и AUC-ROC."
   ]
  },
  {
   "cell_type": "code",
   "execution_count": 41,
   "metadata": {},
   "outputs": [],
   "source": [
    "best_model_f1 = None\n",
    "best_f1 = 0\n",
    "best_threshold_f1 = 0\n",
    "best_auc_roc_for_f1 = 0\n",
    "\n",
    "best_model_threshold_auc_roc = None\n",
    "best_threshold_auc_roc = 0\n",
    "best_auc_roc = 0\n",
    "\n",
    "for threshold in np.arange(0.11, 0.51, 0.01):\n",
    "    predicted_valid = probabilities_one_valid > threshold\n",
    "    f1 = f1_score(target_valid, predicted_valid)\n",
    "    auc_roc = roc_auc_score(target_valid, probabilities_one_valid)\n",
    "    \n",
    "    if f1 > best_f1:\n",
    "        best_model_f1 = model\n",
    "        best_f1 = f1\n",
    "        best_threshold_f1 = threshold\n",
    "        best_auc_roc_for_f1 = auc_roc\n",
    "\n",
    "    if auc_roc > best_auc_roc:\n",
    "        best_model_auc_roc = model\n",
    "        best_threshold_auc_roc = threshold\n",
    "        best_auc_roc = auc_roc"
   ]
  },
  {
   "cell_type": "code",
   "execution_count": 42,
   "metadata": {},
   "outputs": [
    {
     "name": "stdout",
     "output_type": "stream",
     "text": [
      "Лучшая модель с предельным значением F1-меры: 0.4995. Значение AUC-ROC: 0.7586. Порог классификации - 0.26\n",
      "Лучшая модель с предельным значением AUC-ROC: 0.7586. Порог классификации - 0.26\n"
     ]
    }
   ],
   "source": [
    "print(f'Лучшая модель с предельным значением F1-меры: {best_f1:.4}. '\n",
    "       f'Значение AUC-ROC: {best_auc_roc_for_f1:.4}. '\n",
    "       f'Порог классификации - {best_threshold_f1:.2}')\n",
    "\n",
    "print(f'Лучшая модель с предельным значением AUC-ROC: {best_auc_roc:.4}. '\n",
    "      f'Порог классификации - {best_threshold_f1:.2}')"
   ]
  },
  {
   "cell_type": "markdown",
   "metadata": {},
   "source": [
    "* Получили значения F1-меры чуть выше, в сравнение с методом \"взвешивание классов\". Значение F1-меры - 0.4995, против 0,4889. Значение AUC-ROC выросло сильно: 0.7586, против 0,501. Наилучшие значение было получено при пороге классификации равном 0,26. Значения по прежнему сильно отстают от показателей модели - случайный лес."
   ]
  },
  {
   "cell_type": "markdown",
   "metadata": {},
   "source": [
    "### Вывод"
   ]
  },
  {
   "cell_type": "markdown",
   "metadata": {},
   "source": [
    "* Все четыре способа борьбы с дисбалансом классов показали примерно равные результы на модели \"Случайный лес\";\n",
    "* Наилучиший показатель F1-меры на валидационной выборке удалось достичь с помощью метода \"увелечения выборки\" и модели \"Случайный лес\". Получили значение f1-меры - 0.6396, значение AUC-ROC - 0.8498. Данные предельные значения получены при уменьшение на 60% числа записей с клиентами продолжающими пользоваться услугами банка и при следующих гиперпараметрах: кол-во деревьев - 50, глубина леса - 7.\n",
    "* Модель логистической регрессии показала низкие результаты в сравнение с моделью \"Случайный лес\": значение F1-меры - 0.4995, значение AUC-ROC - 0.7586."
   ]
  },
  {
   "cell_type": "markdown",
   "metadata": {},
   "source": [
    "## Тестирование модели"
   ]
  },
  {
   "cell_type": "markdown",
   "metadata": {},
   "source": [
    "Проверим наши лучшие модели на тестовой выборке"
   ]
  },
  {
   "cell_type": "markdown",
   "metadata": {},
   "source": [
    "### Взвешивание классов"
   ]
  },
  {
   "cell_type": "code",
   "execution_count": 43,
   "metadata": {},
   "outputs": [
    {
     "name": "stdout",
     "output_type": "stream",
     "text": [
      "Значение F1-меры - 0.618, значение AUC-ROC - 0.8478 \n"
     ]
    }
   ],
   "source": [
    "predicted_test = best_model_upsample_f1.predict(features_test_scaled)\n",
    "f1 = f1_score(target_test, predicted_test)\n",
    "probabilities_test = best_model_upsample_f1.predict_proba(features_test_scaled)\n",
    "probabilities_one_test = probabilities_test[:, 1]\n",
    "auc_roc = roc_auc_score(target_test, probabilities_one_test)\n",
    "print(f'Значение F1-меры - {f1:.4}, значение AUC-ROC - {auc_roc:.4} ')"
   ]
  },
  {
   "cell_type": "markdown",
   "metadata": {},
   "source": [
    "Построим график полученной ROC-кривой, для наглядности так же изобразим ROC-кривую случайной модели"
   ]
  },
  {
   "cell_type": "code",
   "execution_count": 44,
   "metadata": {},
   "outputs": [
    {
     "data": {
      "image/png": "[encoded data removed]",
      "text/plain": [
       "<Figure size 432x432 with 1 Axes>"
      ]
     },
     "metadata": {
      "needs_background": "light"
     },
     "output_type": "display_data"
    }
   ],
   "source": [
    "fpr, tpr, thresholds = roc_curve(target_test, probabilities_one_test)\n",
    "\n",
    "plt.figure(figsize=(6, 6))\n",
    "plt.plot(fpr, tpr)\n",
    "plt.plot([0, 1], [0, 1], linestyle='--') # ROC-кривая случайной модели\n",
    "plt.xlim([0.0, 1.0])\n",
    "plt.ylim([0.0, 1.0])\n",
    "plt.xlabel(\"False Positive Rate\")\n",
    "plt.ylabel(\"True Positive Rate\")\n",
    "plt.title(\"ROC-кривая\")\n",
    "plt.show()"
   ]
  },
  {
   "cell_type": "markdown",
   "metadata": {},
   "source": [
    "### Увеличение выборки"
   ]
  },
  {
   "cell_type": "code",
   "execution_count": 45,
   "metadata": {},
   "outputs": [
    {
     "name": "stdout",
     "output_type": "stream",
     "text": [
      "Значение F1-меры - 0.6018, значение AUC-ROC - 0.8444 \n"
     ]
    }
   ],
   "source": [
    "predicted_test = best_model_downsample_f1.predict(features_test_scaled)\n",
    "f1 = f1_score(target_test, predicted_test)\n",
    "probabilities_test = best_model_downsample_f1.predict_proba(features_test_scaled)\n",
    "probabilities_one_test = probabilities_test[:, 1]\n",
    "auc_roc = roc_auc_score(target_test, probabilities_one_test)\n",
    "print(f'Значение F1-меры - {f1:.4}, значение AUC-ROC - {auc_roc:.4} ')"
   ]
  },
  {
   "cell_type": "markdown",
   "metadata": {},
   "source": [
    "Построим график полученной ROC-кривой, для наглядности так же изобразим ROC-кривую случайной модели"
   ]
  },
  {
   "cell_type": "code",
   "execution_count": 46,
   "metadata": {},
   "outputs": [
    {
     "data": {
      "image/png": "[encoded data removed]",
      "text/plain": [
       "<Figure size 432x432 with 1 Axes>"
      ]
     },
     "metadata": {
      "needs_background": "light"
     },
     "output_type": "display_data"
    }
   ],
   "source": [
    "fpr, tpr, thresholds = roc_curve(target_test, probabilities_one_test)\n",
    "\n",
    "plt.figure(figsize=(6, 6))\n",
    "plt.plot(fpr, tpr)\n",
    "plt.plot([0, 1], [0, 1], linestyle='--') # ROC-кривая случайной модели\n",
    "plt.xlim([0.0, 1.0])\n",
    "plt.ylim([0.0, 1.0])\n",
    "plt.xlabel(\"False Positive Rate\")\n",
    "plt.ylabel(\"True Positive Rate\")\n",
    "plt.title(\"ROC-кривая\")\n",
    "plt.show()"
   ]
  },
  {
   "cell_type": "markdown",
   "metadata": {},
   "source": [
    "### Уменьшение выборки"
   ]
  },
  {
   "cell_type": "code",
   "execution_count": 47,
   "metadata": {},
   "outputs": [
    {
     "name": "stdout",
     "output_type": "stream",
     "text": [
      "Значение F1-меры - 0.6079, значение AUC-ROC - 0.8521 \n"
     ]
    }
   ],
   "source": [
    "predicted_test = best_model_balanced_f1.predict(features_test_scaled)\n",
    "f1 = f1_score(target_test, predicted_test)\n",
    "probabilities_test = best_model_balanced_f1.predict_proba(features_test_scaled)\n",
    "probabilities_one_test = probabilities_test[:, 1]\n",
    "auc_roc = roc_auc_score(target_test, probabilities_one_test)\n",
    "print(f'Значение F1-меры - {f1:.4}, значение AUC-ROC - {auc_roc:.4} ')"
   ]
  },
  {
   "cell_type": "markdown",
   "metadata": {},
   "source": [
    "Построим график полученной ROC-кривой, для наглядности так же изобразим ROC-кривую случайной модели"
   ]
  },
  {
   "cell_type": "code",
   "execution_count": 48,
   "metadata": {},
   "outputs": [
    {
     "data": {
      "image/png": "[encoded data removed]",
      "text/plain": [
       "<Figure size 432x432 with 1 Axes>"
      ]
     },
     "metadata": {
      "needs_background": "light"
     },
     "output_type": "display_data"
    }
   ],
   "source": [
    "fpr, tpr, thresholds = roc_curve(target_test, probabilities_one_test)\n",
    "\n",
    "plt.figure(figsize=(6, 6))\n",
    "plt.plot(fpr, tpr)\n",
    "plt.plot([0, 1], [0, 1], linestyle='--') # ROC-кривая случайной модели\n",
    "plt.xlim([0.0, 1.0])\n",
    "plt.ylim([0.0, 1.0])\n",
    "plt.xlabel(\"False Positive Rate\")\n",
    "plt.ylabel(\"True Positive Rate\")\n",
    "plt.title(\"ROC-кривая\")\n",
    "plt.show()"
   ]
  },
  {
   "cell_type": "markdown",
   "metadata": {},
   "source": [
    "### Изменение порога классификации"
   ]
  },
  {
   "cell_type": "code",
   "execution_count": 49,
   "metadata": {},
   "outputs": [
    {
     "name": "stdout",
     "output_type": "stream",
     "text": [
      "Значение F1-меры - 0.6002, значение AUC-ROC - 0.8534 \n"
     ]
    }
   ],
   "source": [
    "probabilities_test = best_model_threshold_f1.predict_proba(features_test)\n",
    "probabilities_one_test = probabilities_test[:, 1]\n",
    "predicted_test = probabilities_one_test > 0.28\n",
    "f1 = f1_score(target_test, predicted_test)\n",
    "auc_roc = roc_auc_score(target_test, probabilities_one_test)\n",
    "print(f'Значение F1-меры - {f1:.4}, значение AUC-ROC - {auc_roc:.4} ')"
   ]
  },
  {
   "cell_type": "markdown",
   "metadata": {},
   "source": [
    "Построим график полученной ROC-кривой, для наглядности так же изобразим ROC-кривую случайной модели"
   ]
  },
  {
   "cell_type": "code",
   "execution_count": 50,
   "metadata": {},
   "outputs": [
    {
     "data": {
      "image/png": "[encoded data removed]",
      "text/plain": [
       "<Figure size 432x432 with 1 Axes>"
      ]
     },
     "metadata": {
      "needs_background": "light"
     },
     "output_type": "display_data"
    }
   ],
   "source": [
    "fpr, tpr, thresholds = roc_curve(target_test, probabilities_one_test)\n",
    "\n",
    "plt.figure(figsize=(6, 6))\n",
    "plt.plot(fpr, tpr)\n",
    "plt.plot([0, 1], [0, 1], linestyle='--') # ROC-кривая случайной модели\n",
    "plt.xlim([0.0, 1.0])\n",
    "plt.ylim([0.0, 1.0])\n",
    "plt.xlabel(\"False Positive Rate\")\n",
    "plt.ylabel(\"True Positive Rate\")\n",
    "plt.title(\"ROC-кривая\")\n",
    "plt.show()"
   ]
  },
  {
   "cell_type": "markdown",
   "metadata": {},
   "source": [
    "### Выводы"
   ]
  },
  {
   "cell_type": "markdown",
   "metadata": {},
   "source": [
    "* На тестовой выборке все четыре наших лучших модели показали схожий результат;\n",
    "* Наилучиший показатель F1-меры на тестовой выборке удалось достичь с помощью метода \"взвешивания классов\" и модели \"случайный лес\". Получили значение f1-меры - 0.618, значение AUC-ROC - 0.8478."
   ]
  },
  {
   "cell_type": "markdown",
   "metadata": {},
   "source": [
    "## Чек-лист готовности проекта"
   ]
  },
  {
   "cell_type": "markdown",
   "metadata": {},
   "source": [
    "- [x]  Jupyter Notebook открыт\n",
    "- [x]  Весь код выполняется без ошибок\n",
    "- [x]  Ячейки с кодом расположены в порядке исполнения\n",
    "- [x]  Выполнен шаг 1: данные подготовлены\n",
    "- [x]  Выполнен шаг 2: задача исследована\n",
    "    - [x]  Исследован баланс классов\n",
    "    - [x]  Изучены модели без учёта дисбаланса\n",
    "    - [x]  Написаны выводы по результатам исследования\n",
    "- [x]  Выполнен шаг 3: учтён дисбаланс\n",
    "    - [x]  Применено несколько способов борьбы с дисбалансом\n",
    "    - [x]  Написаны выводы по результатам исследования\n",
    "- [x]  Выполнен шаг 4: проведено тестирование\n",
    "- [x]  Удалось достичь *F1*-меры не менее 0.59\n",
    "- [x]  Исследована метрика *AUC-ROC*"
   ]
  }
 ],
 "metadata": {
  "ExecuteTimeLog": [
   {
    "duration": 769,
    "start_time": "2022-02-08T12:03:31.999Z"
   },
   {
    "duration": 107,
    "start_time": "2022-02-08T12:04:41.806Z"
   },
   {
    "duration": 12,
    "start_time": "2022-02-08T12:04:51.501Z"
   },
   {
    "duration": 31,
    "start_time": "2022-02-08T12:05:22.812Z"
   },
   {
    "duration": 8,
    "start_time": "2022-02-08T13:05:13.370Z"
   },
   {
    "duration": 422,
    "start_time": "2022-02-08T13:16:02.615Z"
   },
   {
    "duration": 10,
    "start_time": "2022-02-08T13:16:30.663Z"
   },
   {
    "duration": 9,
    "start_time": "2022-02-08T13:16:49.744Z"
   },
   {
    "duration": 14,
    "start_time": "2022-02-08T13:18:30.030Z"
   },
   {
    "duration": 284,
    "start_time": "2022-02-08T13:19:30.679Z"
   },
   {
    "duration": 9,
    "start_time": "2022-02-08T13:19:42.915Z"
   },
   {
    "duration": 9,
    "start_time": "2022-02-08T13:20:15.520Z"
   },
   {
    "duration": 18,
    "start_time": "2022-02-08T13:32:40.082Z"
   },
   {
    "duration": 539,
    "start_time": "2022-02-08T13:33:14.051Z"
   },
   {
    "duration": 381,
    "start_time": "2022-02-08T13:33:19.017Z"
   },
   {
    "duration": 37,
    "start_time": "2022-02-08T13:35:46.077Z"
   },
   {
    "duration": 40,
    "start_time": "2022-02-08T13:38:01.549Z"
   },
   {
    "duration": 29,
    "start_time": "2022-02-08T13:38:13.349Z"
   },
   {
    "duration": 6,
    "start_time": "2022-02-08T13:56:30.585Z"
   },
   {
    "duration": 19,
    "start_time": "2022-02-08T13:56:31.618Z"
   },
   {
    "duration": 5,
    "start_time": "2022-02-08T14:00:19.932Z"
   },
   {
    "duration": 9,
    "start_time": "2022-02-08T14:00:32.245Z"
   },
   {
    "duration": 15,
    "start_time": "2022-02-08T14:02:11.926Z"
   },
   {
    "duration": 6,
    "start_time": "2022-02-08T14:04:10.416Z"
   },
   {
    "duration": 8,
    "start_time": "2022-02-08T14:04:11.655Z"
   },
   {
    "duration": 14,
    "start_time": "2022-02-08T14:05:19.889Z"
   },
   {
    "duration": 15,
    "start_time": "2022-02-08T14:05:49.667Z"
   },
   {
    "duration": 18,
    "start_time": "2022-02-08T14:06:03.810Z"
   },
   {
    "duration": 19,
    "start_time": "2022-02-08T14:06:08.818Z"
   },
   {
    "duration": 13,
    "start_time": "2022-02-08T14:06:17.040Z"
   },
   {
    "duration": 31,
    "start_time": "2022-02-08T14:06:26.907Z"
   },
   {
    "duration": 12,
    "start_time": "2022-02-08T14:06:33.386Z"
   },
   {
    "duration": 14,
    "start_time": "2022-02-08T14:06:51.170Z"
   },
   {
    "duration": 14,
    "start_time": "2022-02-08T14:06:59.570Z"
   },
   {
    "duration": 32,
    "start_time": "2022-02-08T14:07:51.083Z"
   },
   {
    "duration": 13,
    "start_time": "2022-02-08T14:07:55.109Z"
   },
   {
    "duration": 12,
    "start_time": "2022-02-08T14:08:15.203Z"
   },
   {
    "duration": 286,
    "start_time": "2022-02-08T14:08:24.898Z"
   },
   {
    "duration": 14,
    "start_time": "2022-02-08T14:09:06.500Z"
   },
   {
    "duration": 433,
    "start_time": "2022-02-08T14:09:21.209Z"
   },
   {
    "duration": 11,
    "start_time": "2022-02-08T14:10:05.101Z"
   },
   {
    "duration": 10,
    "start_time": "2022-02-08T14:10:20.540Z"
   },
   {
    "duration": 8,
    "start_time": "2022-02-08T14:12:10.322Z"
   },
   {
    "duration": 9,
    "start_time": "2022-02-08T14:12:40.256Z"
   },
   {
    "duration": 11,
    "start_time": "2022-02-08T14:14:15.609Z"
   },
   {
    "duration": 11,
    "start_time": "2022-02-08T14:14:30.792Z"
   },
   {
    "duration": 11,
    "start_time": "2022-02-08T14:14:36.145Z"
   },
   {
    "duration": 9,
    "start_time": "2022-02-08T14:14:42.696Z"
   },
   {
    "duration": 8,
    "start_time": "2022-02-08T14:16:00.402Z"
   },
   {
    "duration": 8,
    "start_time": "2022-02-08T14:16:03.650Z"
   },
   {
    "duration": 8,
    "start_time": "2022-02-08T14:16:06.201Z"
   },
   {
    "duration": 9,
    "start_time": "2022-02-08T14:16:08.900Z"
   },
   {
    "duration": 8,
    "start_time": "2022-02-08T14:17:17.963Z"
   },
   {
    "duration": 9,
    "start_time": "2022-02-08T14:17:48.276Z"
   },
   {
    "duration": 610,
    "start_time": "2022-02-10T08:21:16.727Z"
   },
   {
    "duration": 33,
    "start_time": "2022-02-10T08:21:17.338Z"
   },
   {
    "duration": 8,
    "start_time": "2022-02-10T08:21:17.373Z"
   },
   {
    "duration": 9,
    "start_time": "2022-02-10T08:21:17.383Z"
   },
   {
    "duration": 23,
    "start_time": "2022-02-10T08:21:17.394Z"
   },
   {
    "duration": 9,
    "start_time": "2022-02-10T08:21:17.418Z"
   },
   {
    "duration": 7,
    "start_time": "2022-02-10T08:21:17.428Z"
   },
   {
    "duration": 14,
    "start_time": "2022-02-10T08:21:17.437Z"
   },
   {
    "duration": 14,
    "start_time": "2022-02-10T08:21:17.453Z"
   },
   {
    "duration": 29,
    "start_time": "2022-02-10T08:21:17.469Z"
   },
   {
    "duration": 7,
    "start_time": "2022-02-10T08:21:17.500Z"
   },
   {
    "duration": 8,
    "start_time": "2022-02-10T08:21:17.509Z"
   },
   {
    "duration": 5,
    "start_time": "2022-02-10T08:21:17.519Z"
   },
   {
    "duration": 11,
    "start_time": "2022-02-10T08:21:17.526Z"
   },
   {
    "duration": 7,
    "start_time": "2022-02-10T08:21:17.539Z"
   },
   {
    "duration": 8,
    "start_time": "2022-02-10T08:21:17.548Z"
   },
   {
    "duration": 43,
    "start_time": "2022-02-10T08:21:17.558Z"
   },
   {
    "duration": 11,
    "start_time": "2022-02-10T08:32:48.765Z"
   },
   {
    "duration": 7,
    "start_time": "2022-02-10T08:34:32.541Z"
   },
   {
    "duration": 9,
    "start_time": "2022-02-10T08:34:48.472Z"
   },
   {
    "duration": 10,
    "start_time": "2022-02-10T08:36:04.911Z"
   },
   {
    "duration": 327,
    "start_time": "2022-02-10T08:37:26.453Z"
   },
   {
    "duration": 8,
    "start_time": "2022-02-10T08:38:34.393Z"
   },
   {
    "duration": 8,
    "start_time": "2022-02-10T08:38:35.882Z"
   },
   {
    "duration": 2,
    "start_time": "2022-02-10T08:38:49.127Z"
   },
   {
    "duration": 35,
    "start_time": "2022-02-10T08:38:49.132Z"
   },
   {
    "duration": 12,
    "start_time": "2022-02-10T08:38:49.169Z"
   },
   {
    "duration": 7,
    "start_time": "2022-02-10T08:38:49.184Z"
   },
   {
    "duration": 22,
    "start_time": "2022-02-10T08:38:49.194Z"
   },
   {
    "duration": 14,
    "start_time": "2022-02-10T08:38:49.219Z"
   },
   {
    "duration": 11,
    "start_time": "2022-02-10T08:38:49.234Z"
   },
   {
    "duration": 7,
    "start_time": "2022-02-10T08:38:49.248Z"
   },
   {
    "duration": 10,
    "start_time": "2022-02-10T08:38:49.257Z"
   },
   {
    "duration": 10,
    "start_time": "2022-02-10T08:38:49.269Z"
   },
   {
    "duration": 8,
    "start_time": "2022-02-10T08:38:49.299Z"
   },
   {
    "duration": 10,
    "start_time": "2022-02-10T08:38:49.309Z"
   },
   {
    "duration": 6,
    "start_time": "2022-02-10T08:38:49.321Z"
   },
   {
    "duration": 9,
    "start_time": "2022-02-10T08:38:49.329Z"
   },
   {
    "duration": 7,
    "start_time": "2022-02-10T08:38:49.340Z"
   },
   {
    "duration": 7,
    "start_time": "2022-02-10T08:38:49.349Z"
   },
   {
    "duration": 43,
    "start_time": "2022-02-10T08:38:49.358Z"
   },
   {
    "duration": 13,
    "start_time": "2022-02-10T08:39:19.355Z"
   },
   {
    "duration": 8,
    "start_time": "2022-02-10T08:39:24.578Z"
   },
   {
    "duration": 14,
    "start_time": "2022-02-10T08:40:04.188Z"
   },
   {
    "duration": 8,
    "start_time": "2022-02-10T08:45:49.265Z"
   },
   {
    "duration": 12,
    "start_time": "2022-02-10T08:45:59.336Z"
   },
   {
    "duration": 5,
    "start_time": "2022-02-10T08:50:35.267Z"
   },
   {
    "duration": 282,
    "start_time": "2022-02-10T08:51:11.990Z"
   },
   {
    "duration": 505,
    "start_time": "2022-02-10T08:52:34.813Z"
   },
   {
    "duration": 10,
    "start_time": "2022-02-10T08:52:40.821Z"
   },
   {
    "duration": 4,
    "start_time": "2022-02-10T08:54:15.944Z"
   },
   {
    "duration": 39,
    "start_time": "2022-02-10T10:38:43.899Z"
   },
   {
    "duration": 3,
    "start_time": "2022-02-10T10:39:29.095Z"
   },
   {
    "duration": 288,
    "start_time": "2022-02-10T10:43:45.258Z"
   },
   {
    "duration": 1595,
    "start_time": "2022-02-10T10:44:08.345Z"
   },
   {
    "duration": 414,
    "start_time": "2022-02-10T10:46:27.511Z"
   },
   {
    "duration": 1619,
    "start_time": "2022-02-10T10:46:41.179Z"
   },
   {
    "duration": 90,
    "start_time": "2022-02-10T11:15:22.811Z"
   },
   {
    "duration": 277,
    "start_time": "2022-02-10T11:15:34.549Z"
   },
   {
    "duration": 356,
    "start_time": "2022-02-10T11:15:45.580Z"
   },
   {
    "duration": 359,
    "start_time": "2022-02-10T11:16:26.767Z"
   },
   {
    "duration": 501,
    "start_time": "2022-02-10T11:17:09.048Z"
   },
   {
    "duration": 14136,
    "start_time": "2022-02-10T11:18:08.727Z"
   },
   {
    "duration": 13527,
    "start_time": "2022-02-10T11:19:25.720Z"
   },
   {
    "duration": 1943,
    "start_time": "2022-02-10T11:20:21.298Z"
   },
   {
    "duration": 77,
    "start_time": "2022-02-10T11:20:33.152Z"
   },
   {
    "duration": 232,
    "start_time": "2022-02-10T11:20:49.609Z"
   },
   {
    "duration": 272,
    "start_time": "2022-02-10T11:20:56.073Z"
   },
   {
    "duration": 320,
    "start_time": "2022-02-10T11:21:11.722Z"
   },
   {
    "duration": 294,
    "start_time": "2022-02-10T11:21:18.369Z"
   },
   {
    "duration": 285,
    "start_time": "2022-02-10T11:21:27.425Z"
   },
   {
    "duration": 318,
    "start_time": "2022-02-10T11:21:33.579Z"
   },
   {
    "duration": 338,
    "start_time": "2022-02-10T11:21:38.978Z"
   },
   {
    "duration": 260,
    "start_time": "2022-02-10T12:01:47.276Z"
   },
   {
    "duration": 4,
    "start_time": "2022-02-10T12:01:54.068Z"
   },
   {
    "duration": 10,
    "start_time": "2022-02-10T12:02:01.143Z"
   },
   {
    "duration": 280,
    "start_time": "2022-02-10T12:02:20.029Z"
   },
   {
    "duration": 5,
    "start_time": "2022-02-10T12:02:37.756Z"
   },
   {
    "duration": 3,
    "start_time": "2022-02-10T12:03:13.786Z"
   },
   {
    "duration": 48,
    "start_time": "2022-02-10T12:03:13.792Z"
   },
   {
    "duration": 10,
    "start_time": "2022-02-10T12:03:13.843Z"
   },
   {
    "duration": 10,
    "start_time": "2022-02-10T12:03:13.855Z"
   },
   {
    "duration": 39,
    "start_time": "2022-02-10T12:03:13.867Z"
   },
   {
    "duration": 13,
    "start_time": "2022-02-10T12:03:13.909Z"
   },
   {
    "duration": 10,
    "start_time": "2022-02-10T12:03:13.924Z"
   },
   {
    "duration": 7,
    "start_time": "2022-02-10T12:03:13.937Z"
   },
   {
    "duration": 11,
    "start_time": "2022-02-10T12:03:13.946Z"
   },
   {
    "duration": 41,
    "start_time": "2022-02-10T12:03:13.958Z"
   },
   {
    "duration": 9,
    "start_time": "2022-02-10T12:03:14.002Z"
   },
   {
    "duration": 10,
    "start_time": "2022-02-10T12:03:14.013Z"
   },
   {
    "duration": 19,
    "start_time": "2022-02-10T12:03:14.025Z"
   },
   {
    "duration": 10,
    "start_time": "2022-02-10T12:03:14.047Z"
   },
   {
    "duration": 10,
    "start_time": "2022-02-10T12:03:14.059Z"
   },
   {
    "duration": 34,
    "start_time": "2022-02-10T12:03:14.071Z"
   },
   {
    "duration": 24,
    "start_time": "2022-02-10T12:03:14.107Z"
   },
   {
    "duration": 20,
    "start_time": "2022-02-10T12:03:14.133Z"
   },
   {
    "duration": 10,
    "start_time": "2022-02-10T12:03:14.154Z"
   },
   {
    "duration": 14,
    "start_time": "2022-02-10T12:03:14.166Z"
   },
   {
    "duration": 6,
    "start_time": "2022-02-10T12:03:14.199Z"
   },
   {
    "duration": 11,
    "start_time": "2022-02-10T12:03:14.208Z"
   },
   {
    "duration": 5,
    "start_time": "2022-02-10T12:03:14.221Z"
   },
   {
    "duration": 9,
    "start_time": "2022-02-10T12:03:17.790Z"
   },
   {
    "duration": 1612,
    "start_time": "2022-02-10T12:03:39.798Z"
   },
   {
    "duration": 3492,
    "start_time": "2022-02-10T12:04:34.864Z"
   },
   {
    "duration": 291,
    "start_time": "2022-02-11T11:51:04.403Z"
   },
   {
    "duration": 1146,
    "start_time": "2022-02-11T11:51:11.004Z"
   },
   {
    "duration": 32,
    "start_time": "2022-02-11T11:51:12.152Z"
   },
   {
    "duration": 9,
    "start_time": "2022-02-11T11:51:12.186Z"
   },
   {
    "duration": 4,
    "start_time": "2022-02-11T11:51:12.199Z"
   },
   {
    "duration": 26,
    "start_time": "2022-02-11T11:51:12.205Z"
   },
   {
    "duration": 8,
    "start_time": "2022-02-11T11:51:12.233Z"
   },
   {
    "duration": 7,
    "start_time": "2022-02-11T11:51:12.243Z"
   },
   {
    "duration": 10,
    "start_time": "2022-02-11T11:51:12.251Z"
   },
   {
    "duration": 7,
    "start_time": "2022-02-11T11:51:12.264Z"
   },
   {
    "duration": 5,
    "start_time": "2022-02-11T11:51:12.299Z"
   },
   {
    "duration": 9,
    "start_time": "2022-02-11T11:51:12.306Z"
   },
   {
    "duration": 8,
    "start_time": "2022-02-11T11:51:12.317Z"
   },
   {
    "duration": 6,
    "start_time": "2022-02-11T11:51:12.327Z"
   },
   {
    "duration": 7,
    "start_time": "2022-02-11T11:51:12.335Z"
   },
   {
    "duration": 9,
    "start_time": "2022-02-11T11:51:12.343Z"
   },
   {
    "duration": 45,
    "start_time": "2022-02-11T11:51:12.354Z"
   },
   {
    "duration": 6,
    "start_time": "2022-02-11T11:51:12.401Z"
   },
   {
    "duration": 18,
    "start_time": "2022-02-11T11:51:12.408Z"
   },
   {
    "duration": 9,
    "start_time": "2022-02-11T11:51:12.430Z"
   },
   {
    "duration": 15,
    "start_time": "2022-02-11T11:51:12.441Z"
   },
   {
    "duration": 6,
    "start_time": "2022-02-11T11:51:12.458Z"
   },
   {
    "duration": 37,
    "start_time": "2022-02-11T11:51:12.466Z"
   },
   {
    "duration": 4,
    "start_time": "2022-02-11T11:51:12.505Z"
   },
   {
    "duration": 19,
    "start_time": "2022-02-11T11:51:12.511Z"
   },
   {
    "duration": 1526,
    "start_time": "2022-02-11T11:51:14.955Z"
   },
   {
    "duration": 3439,
    "start_time": "2022-02-11T11:55:35.564Z"
   },
   {
    "duration": 4,
    "start_time": "2022-02-11T11:59:25.422Z"
   },
   {
    "duration": 4,
    "start_time": "2022-02-11T12:02:07.651Z"
   },
   {
    "duration": 17,
    "start_time": "2022-02-11T12:11:39.443Z"
   },
   {
    "duration": 269,
    "start_time": "2022-02-11T12:15:35.463Z"
   },
   {
    "duration": 269,
    "start_time": "2022-02-11T12:15:49.623Z"
   },
   {
    "duration": 281,
    "start_time": "2022-02-11T12:19:32.363Z"
   },
   {
    "duration": 286,
    "start_time": "2022-02-11T12:20:35.203Z"
   },
   {
    "duration": 219,
    "start_time": "2022-02-14T13:30:09.965Z"
   },
   {
    "duration": 1061,
    "start_time": "2022-02-14T13:30:16.148Z"
   },
   {
    "duration": 24,
    "start_time": "2022-02-14T13:30:17.211Z"
   },
   {
    "duration": 8,
    "start_time": "2022-02-14T13:30:17.237Z"
   },
   {
    "duration": 12,
    "start_time": "2022-02-14T13:30:17.247Z"
   },
   {
    "duration": 22,
    "start_time": "2022-02-14T13:30:17.260Z"
   },
   {
    "duration": 8,
    "start_time": "2022-02-14T13:30:17.284Z"
   },
   {
    "duration": 7,
    "start_time": "2022-02-14T13:30:17.294Z"
   },
   {
    "duration": 15,
    "start_time": "2022-02-14T13:30:17.302Z"
   },
   {
    "duration": 9,
    "start_time": "2022-02-14T13:30:17.320Z"
   },
   {
    "duration": 4,
    "start_time": "2022-02-14T13:30:17.331Z"
   },
   {
    "duration": 26,
    "start_time": "2022-02-14T13:30:17.337Z"
   },
   {
    "duration": 13,
    "start_time": "2022-02-14T13:30:17.365Z"
   },
   {
    "duration": 6,
    "start_time": "2022-02-14T13:30:17.380Z"
   },
   {
    "duration": 12,
    "start_time": "2022-02-14T13:30:17.387Z"
   },
   {
    "duration": 10,
    "start_time": "2022-02-14T13:30:17.400Z"
   },
   {
    "duration": 10,
    "start_time": "2022-02-14T13:30:17.412Z"
   },
   {
    "duration": 11,
    "start_time": "2022-02-14T13:30:17.424Z"
   },
   {
    "duration": 32,
    "start_time": "2022-02-14T13:30:17.436Z"
   },
   {
    "duration": 7,
    "start_time": "2022-02-14T13:30:17.470Z"
   },
   {
    "duration": 13,
    "start_time": "2022-02-14T13:30:17.478Z"
   },
   {
    "duration": 8,
    "start_time": "2022-02-14T13:30:17.492Z"
   },
   {
    "duration": 11,
    "start_time": "2022-02-14T13:30:17.502Z"
   },
   {
    "duration": 4,
    "start_time": "2022-02-14T13:30:17.515Z"
   },
   {
    "duration": 39,
    "start_time": "2022-02-14T13:30:17.520Z"
   },
   {
    "duration": 1380,
    "start_time": "2022-02-14T13:30:17.561Z"
   },
   {
    "duration": 2959,
    "start_time": "2022-02-14T13:30:18.943Z"
   },
   {
    "duration": 229,
    "start_time": "2022-02-14T13:30:21.905Z"
   },
   {
    "duration": 38,
    "start_time": "2022-02-14T13:30:22.135Z"
   },
   {
    "duration": 55,
    "start_time": "2022-02-14T13:30:32.503Z"
   },
   {
    "duration": 16,
    "start_time": "2022-02-14T13:31:12.096Z"
   },
   {
    "duration": 31,
    "start_time": "2022-02-14T13:31:48.736Z"
   },
   {
    "duration": 47,
    "start_time": "2022-02-14T13:32:08.911Z"
   },
   {
    "duration": 19,
    "start_time": "2022-02-14T13:32:15.528Z"
   },
   {
    "duration": 12,
    "start_time": "2022-02-14T13:32:57.897Z"
   },
   {
    "duration": 78,
    "start_time": "2022-02-14T13:50:31.281Z"
   },
   {
    "duration": 7,
    "start_time": "2022-02-14T13:50:34.762Z"
   },
   {
    "duration": 2944,
    "start_time": "2022-02-14T13:51:43.771Z"
   },
   {
    "duration": 1339,
    "start_time": "2022-02-14T13:51:57.219Z"
   },
   {
    "duration": 1956,
    "start_time": "2022-02-14T13:53:16.628Z"
   },
   {
    "duration": 1935,
    "start_time": "2022-02-14T13:53:34.269Z"
   },
   {
    "duration": 3466,
    "start_time": "2022-02-14T13:53:52.998Z"
   },
   {
    "duration": 147,
    "start_time": "2022-02-14T13:55:59.296Z"
   },
   {
    "duration": 16,
    "start_time": "2022-02-14T13:56:48.279Z"
   },
   {
    "duration": 9,
    "start_time": "2022-02-14T13:57:08.225Z"
   },
   {
    "duration": 6525,
    "start_time": "2022-02-14T13:57:36.970Z"
   },
   {
    "duration": 1360,
    "start_time": "2022-02-14T13:58:00.233Z"
   },
   {
    "duration": 9,
    "start_time": "2022-02-14T13:58:21.401Z"
   },
   {
    "duration": 4,
    "start_time": "2022-02-14T14:00:53.587Z"
   },
   {
    "duration": 385,
    "start_time": "2022-02-14T14:02:02.214Z"
   },
   {
    "duration": 186,
    "start_time": "2022-02-14T14:02:51.543Z"
   },
   {
    "duration": 193,
    "start_time": "2022-02-14T14:03:06.358Z"
   },
   {
    "duration": 551,
    "start_time": "2022-02-14T14:03:17.854Z"
   },
   {
    "duration": 384,
    "start_time": "2022-02-14T14:03:47.382Z"
   },
   {
    "duration": 4,
    "start_time": "2022-02-14T14:04:02.695Z"
   },
   {
    "duration": 376,
    "start_time": "2022-02-14T14:04:04.430Z"
   },
   {
    "duration": 4,
    "start_time": "2022-02-14T14:04:24.614Z"
   },
   {
    "duration": 4,
    "start_time": "2022-02-14T14:04:32.853Z"
   },
   {
    "duration": 14,
    "start_time": "2022-02-14T14:04:33.638Z"
   },
   {
    "duration": 497,
    "start_time": "2022-02-14T14:04:46.064Z"
   },
   {
    "duration": 13,
    "start_time": "2022-02-14T14:06:38.912Z"
   },
   {
    "duration": 7,
    "start_time": "2022-02-14T14:08:05.658Z"
   },
   {
    "duration": 216,
    "start_time": "2022-02-14T14:09:23.284Z"
   },
   {
    "duration": 23,
    "start_time": "2022-02-14T14:09:41.779Z"
   },
   {
    "duration": 17,
    "start_time": "2022-02-14T14:09:54.299Z"
   },
   {
    "duration": 3,
    "start_time": "2022-02-14T15:11:36.513Z"
   },
   {
    "duration": 26,
    "start_time": "2022-02-14T15:11:36.524Z"
   },
   {
    "duration": 7,
    "start_time": "2022-02-14T15:11:36.552Z"
   },
   {
    "duration": 6,
    "start_time": "2022-02-14T15:11:36.561Z"
   },
   {
    "duration": 13,
    "start_time": "2022-02-14T15:11:36.569Z"
   },
   {
    "duration": 9,
    "start_time": "2022-02-14T15:11:36.584Z"
   },
   {
    "duration": 6,
    "start_time": "2022-02-14T15:11:36.595Z"
   },
   {
    "duration": 8,
    "start_time": "2022-02-14T15:11:36.603Z"
   },
   {
    "duration": 9,
    "start_time": "2022-02-14T15:11:36.612Z"
   },
   {
    "duration": 4,
    "start_time": "2022-02-14T15:11:36.623Z"
   },
   {
    "duration": 31,
    "start_time": "2022-02-14T15:11:36.629Z"
   },
   {
    "duration": 9,
    "start_time": "2022-02-14T15:11:36.662Z"
   },
   {
    "duration": 11,
    "start_time": "2022-02-14T15:11:36.672Z"
   },
   {
    "duration": 8,
    "start_time": "2022-02-14T15:11:36.684Z"
   },
   {
    "duration": 6,
    "start_time": "2022-02-14T15:11:36.693Z"
   },
   {
    "duration": 9,
    "start_time": "2022-02-14T15:11:36.700Z"
   },
   {
    "duration": 5,
    "start_time": "2022-02-14T15:11:36.710Z"
   },
   {
    "duration": 13,
    "start_time": "2022-02-14T15:11:36.717Z"
   },
   {
    "duration": 32,
    "start_time": "2022-02-14T15:11:36.732Z"
   },
   {
    "duration": 10,
    "start_time": "2022-02-14T15:11:36.766Z"
   },
   {
    "duration": 7,
    "start_time": "2022-02-14T15:11:36.777Z"
   },
   {
    "duration": 9,
    "start_time": "2022-02-14T15:11:36.785Z"
   },
   {
    "duration": 2,
    "start_time": "2022-02-14T15:11:36.796Z"
   },
   {
    "duration": 10,
    "start_time": "2022-02-14T15:11:36.800Z"
   },
   {
    "duration": 1369,
    "start_time": "2022-02-14T15:11:36.812Z"
   },
   {
    "duration": 3029,
    "start_time": "2022-02-14T15:11:38.182Z"
   },
   {
    "duration": 251,
    "start_time": "2022-02-14T15:14:44.366Z"
   },
   {
    "duration": 4,
    "start_time": "2022-02-14T15:15:17.068Z"
   },
   {
    "duration": 35,
    "start_time": "2022-02-14T15:15:29.869Z"
   },
   {
    "duration": 34,
    "start_time": "2022-02-14T15:16:26.894Z"
   },
   {
    "duration": 45,
    "start_time": "2022-02-14T15:17:33.608Z"
   },
   {
    "duration": 49,
    "start_time": "2022-02-14T15:18:04.238Z"
   },
   {
    "duration": 59,
    "start_time": "2022-02-14T15:18:21.993Z"
   },
   {
    "duration": 240,
    "start_time": "2022-02-14T15:19:14.936Z"
   },
   {
    "duration": 51,
    "start_time": "2022-02-14T15:19:56.705Z"
   },
   {
    "duration": 53,
    "start_time": "2022-02-14T15:20:11.298Z"
   },
   {
    "duration": 25,
    "start_time": "2022-02-14T15:20:32.930Z"
   },
   {
    "duration": 1368,
    "start_time": "2022-02-14T15:21:08.540Z"
   },
   {
    "duration": 371159,
    "start_time": "2022-02-14T15:26:25.390Z"
   },
   {
    "duration": 13130,
    "start_time": "2022-02-14T15:33:08.549Z"
   },
   {
    "duration": 25164,
    "start_time": "2022-02-14T15:33:30.447Z"
   },
   {
    "duration": 17732,
    "start_time": "2022-02-14T15:34:00.702Z"
   },
   {
    "duration": 59005,
    "start_time": "2022-02-14T15:36:20.503Z"
   },
   {
    "duration": 159164,
    "start_time": "2022-02-14T15:38:16.444Z"
   },
   {
    "duration": 69131,
    "start_time": "2022-02-14T15:41:36.014Z"
   },
   {
    "duration": 189785,
    "start_time": "2022-02-14T15:43:58.933Z"
   },
   {
    "duration": 52443,
    "start_time": "2022-02-14T15:49:19.667Z"
   },
   {
    "duration": 33757,
    "start_time": "2022-02-14T15:58:16.033Z"
   },
   {
    "duration": 33637,
    "start_time": "2022-02-14T15:59:33.194Z"
   },
   {
    "duration": 1347,
    "start_time": "2022-02-14T16:01:50.045Z"
   },
   {
    "duration": 1373,
    "start_time": "2022-02-14T16:02:09.269Z"
   },
   {
    "duration": 3,
    "start_time": "2022-02-14T16:02:30.515Z"
   },
   {
    "duration": 30,
    "start_time": "2022-02-14T16:02:30.520Z"
   },
   {
    "duration": 8,
    "start_time": "2022-02-14T16:02:30.552Z"
   },
   {
    "duration": 13,
    "start_time": "2022-02-14T16:02:30.561Z"
   },
   {
    "duration": 22,
    "start_time": "2022-02-14T16:02:30.575Z"
   },
   {
    "duration": 10,
    "start_time": "2022-02-14T16:02:30.599Z"
   },
   {
    "duration": 9,
    "start_time": "2022-02-14T16:02:30.610Z"
   },
   {
    "duration": 13,
    "start_time": "2022-02-14T16:02:30.622Z"
   },
   {
    "duration": 14,
    "start_time": "2022-02-14T16:02:30.637Z"
   },
   {
    "duration": 6,
    "start_time": "2022-02-14T16:02:30.653Z"
   },
   {
    "duration": 7,
    "start_time": "2022-02-14T16:02:30.661Z"
   },
   {
    "duration": 9,
    "start_time": "2022-02-14T16:02:30.669Z"
   },
   {
    "duration": 5,
    "start_time": "2022-02-14T16:02:30.680Z"
   },
   {
    "duration": 27,
    "start_time": "2022-02-14T16:02:30.687Z"
   },
   {
    "duration": 11,
    "start_time": "2022-02-14T16:02:30.716Z"
   },
   {
    "duration": 28,
    "start_time": "2022-02-14T16:02:30.729Z"
   },
   {
    "duration": 17,
    "start_time": "2022-02-14T16:02:30.758Z"
   },
   {
    "duration": 16,
    "start_time": "2022-02-14T16:02:30.777Z"
   },
   {
    "duration": 21,
    "start_time": "2022-02-14T16:02:30.794Z"
   },
   {
    "duration": 19,
    "start_time": "2022-02-14T16:02:30.816Z"
   },
   {
    "duration": 16,
    "start_time": "2022-02-14T16:02:30.837Z"
   },
   {
    "duration": 31,
    "start_time": "2022-02-14T16:02:30.855Z"
   },
   {
    "duration": 28,
    "start_time": "2022-02-14T16:02:30.889Z"
   },
   {
    "duration": 30,
    "start_time": "2022-02-14T16:02:30.919Z"
   },
   {
    "duration": 1320,
    "start_time": "2022-02-14T16:02:30.951Z"
   },
   {
    "duration": 1292,
    "start_time": "2022-02-14T16:02:36.484Z"
   },
   {
    "duration": 224,
    "start_time": "2022-02-14T16:03:13.581Z"
   },
   {
    "duration": 1306,
    "start_time": "2022-02-14T16:03:24.453Z"
   },
   {
    "duration": 1440,
    "start_time": "2022-02-15T08:18:48.797Z"
   },
   {
    "duration": 41,
    "start_time": "2022-02-15T08:18:50.241Z"
   },
   {
    "duration": 12,
    "start_time": "2022-02-15T08:18:50.286Z"
   },
   {
    "duration": 6,
    "start_time": "2022-02-15T08:18:50.301Z"
   },
   {
    "duration": 69,
    "start_time": "2022-02-15T08:18:50.310Z"
   },
   {
    "duration": 18,
    "start_time": "2022-02-15T08:18:50.384Z"
   },
   {
    "duration": 8,
    "start_time": "2022-02-15T08:18:50.404Z"
   },
   {
    "duration": 11,
    "start_time": "2022-02-15T08:18:50.414Z"
   },
   {
    "duration": 7,
    "start_time": "2022-02-15T08:18:50.429Z"
   },
   {
    "duration": 12,
    "start_time": "2022-02-15T08:18:50.472Z"
   },
   {
    "duration": 13,
    "start_time": "2022-02-15T08:18:50.487Z"
   },
   {
    "duration": 10,
    "start_time": "2022-02-15T08:18:50.502Z"
   },
   {
    "duration": 9,
    "start_time": "2022-02-15T08:18:50.515Z"
   },
   {
    "duration": 46,
    "start_time": "2022-02-15T08:18:50.526Z"
   },
   {
    "duration": 16,
    "start_time": "2022-02-15T08:18:50.575Z"
   },
   {
    "duration": 13,
    "start_time": "2022-02-15T08:18:50.594Z"
   },
   {
    "duration": 10,
    "start_time": "2022-02-15T08:18:50.610Z"
   },
   {
    "duration": 64,
    "start_time": "2022-02-15T08:18:50.623Z"
   },
   {
    "duration": 11,
    "start_time": "2022-02-15T08:18:50.690Z"
   },
   {
    "duration": 18,
    "start_time": "2022-02-15T08:18:50.704Z"
   },
   {
    "duration": 10,
    "start_time": "2022-02-15T08:18:50.725Z"
   },
   {
    "duration": 48,
    "start_time": "2022-02-15T08:18:50.737Z"
   },
   {
    "duration": 7,
    "start_time": "2022-02-15T08:18:50.788Z"
   },
   {
    "duration": 19,
    "start_time": "2022-02-15T08:18:50.799Z"
   },
   {
    "duration": 2354,
    "start_time": "2022-02-15T08:18:50.821Z"
   },
   {
    "duration": 5442,
    "start_time": "2022-02-15T08:18:53.179Z"
   },
   {
    "duration": 413,
    "start_time": "2022-02-15T08:18:58.625Z"
   },
   {
    "duration": 130,
    "start_time": "2022-02-15T08:18:59.041Z"
   },
   {
    "duration": 97,
    "start_time": "2022-02-15T08:18:59.174Z"
   },
   {
    "duration": 2279,
    "start_time": "2022-02-15T08:21:32.930Z"
   },
   {
    "duration": 2166,
    "start_time": "2022-02-15T08:22:07.772Z"
   },
   {
    "duration": 4898,
    "start_time": "2022-02-15T08:22:24.389Z"
   },
   {
    "duration": 52367,
    "start_time": "2022-02-15T08:22:52.237Z"
   },
   {
    "duration": 57126,
    "start_time": "2022-02-15T08:23:46.397Z"
   },
   {
    "duration": 54256,
    "start_time": "2022-02-15T08:25:37.458Z"
   },
   {
    "duration": 508,
    "start_time": "2022-02-15T08:28:36.869Z"
   },
   {
    "duration": 381,
    "start_time": "2022-02-15T08:29:07.609Z"
   },
   {
    "duration": 48004,
    "start_time": "2022-02-15T08:31:38.170Z"
   },
   {
    "duration": 85,
    "start_time": "2022-02-15T08:33:09.419Z"
   },
   {
    "duration": 55633,
    "start_time": "2022-02-15T08:33:43.858Z"
   },
   {
    "duration": 400,
    "start_time": "2022-02-15T08:34:39.494Z"
   },
   {
    "duration": 17668,
    "start_time": "2022-02-15T08:49:22.727Z"
   },
   {
    "duration": 59010,
    "start_time": "2022-02-15T08:49:42.596Z"
   },
   {
    "duration": 272,
    "start_time": "2022-02-15T08:50:49.928Z"
   },
   {
    "duration": 256,
    "start_time": "2022-02-15T08:52:16.639Z"
   },
   {
    "duration": 266,
    "start_time": "2022-02-15T08:52:37.362Z"
   },
   {
    "duration": 89,
    "start_time": "2022-02-15T08:54:59.070Z"
   },
   {
    "duration": 271,
    "start_time": "2022-02-15T08:55:07.671Z"
   },
   {
    "duration": 270,
    "start_time": "2022-02-15T08:56:33.971Z"
   },
   {
    "duration": 240,
    "start_time": "2022-02-15T08:57:23.212Z"
   },
   {
    "duration": 263,
    "start_time": "2022-02-15T08:57:36.282Z"
   },
   {
    "duration": 266,
    "start_time": "2022-02-15T08:57:45.350Z"
   },
   {
    "duration": 4,
    "start_time": "2022-02-15T08:59:43.260Z"
   },
   {
    "duration": 58204,
    "start_time": "2022-02-15T09:00:28.168Z"
   },
   {
    "duration": 57419,
    "start_time": "2022-02-15T09:04:53.682Z"
   },
   {
    "duration": 78,
    "start_time": "2022-02-15T09:06:08.950Z"
   },
   {
    "duration": 6,
    "start_time": "2022-02-15T09:06:27.809Z"
   },
   {
    "duration": 5,
    "start_time": "2022-02-15T09:06:48.191Z"
   },
   {
    "duration": 5,
    "start_time": "2022-02-15T09:07:23.519Z"
   },
   {
    "duration": 5,
    "start_time": "2022-02-15T09:07:34.072Z"
   },
   {
    "duration": 58608,
    "start_time": "2022-02-15T09:18:46.434Z"
   },
   {
    "duration": 10565,
    "start_time": "2022-02-15T09:19:58.881Z"
   },
   {
    "duration": 59317,
    "start_time": "2022-02-15T09:20:23.841Z"
   },
   {
    "duration": 29,
    "start_time": "2022-02-15T09:22:07.133Z"
   },
   {
    "duration": 19,
    "start_time": "2022-02-15T09:22:32.753Z"
   },
   {
    "duration": 26,
    "start_time": "2022-02-15T09:24:28.253Z"
   },
   {
    "duration": 11,
    "start_time": "2022-02-15T09:24:30.174Z"
   },
   {
    "duration": 5,
    "start_time": "2022-02-15T09:26:42.081Z"
   },
   {
    "duration": 535,
    "start_time": "2022-02-15T09:41:17.290Z"
   },
   {
    "duration": 19,
    "start_time": "2022-02-15T09:41:38.653Z"
   },
   {
    "duration": 8985,
    "start_time": "2022-02-15T10:16:17.689Z"
   },
   {
    "duration": 510400,
    "start_time": "2022-02-15T10:16:34.485Z"
   },
   {
    "duration": 16266,
    "start_time": "2022-02-15T10:26:14.968Z"
   },
   {
    "duration": 70182,
    "start_time": "2022-02-15T10:26:47.912Z"
   },
   {
    "duration": 84159,
    "start_time": "2022-02-15T10:30:30.639Z"
   },
   {
    "duration": 96991,
    "start_time": "2022-02-15T10:34:08.813Z"
   },
   {
    "duration": 75806,
    "start_time": "2022-02-15T10:36:35.879Z"
   },
   {
    "duration": 320917,
    "start_time": "2022-02-15T10:37:51.688Z"
   },
   {
    "duration": 5,
    "start_time": "2022-02-15T10:43:33.257Z"
   },
   {
    "duration": 6,
    "start_time": "2022-02-15T10:44:17.758Z"
   },
   {
    "duration": 7,
    "start_time": "2022-02-15T10:45:16.867Z"
   },
   {
    "duration": 8423,
    "start_time": "2022-02-15T10:48:19.057Z"
   },
   {
    "duration": 328329,
    "start_time": "2022-02-15T10:48:37.326Z"
   },
   {
    "duration": 57,
    "start_time": "2022-02-15T11:07:18.254Z"
   },
   {
    "duration": 30,
    "start_time": "2022-02-15T11:07:23.041Z"
   },
   {
    "duration": 5,
    "start_time": "2022-02-15T12:09:46.023Z"
   },
   {
    "duration": 147945,
    "start_time": "2022-02-15T12:17:03.878Z"
   },
   {
    "duration": 5,
    "start_time": "2022-02-15T12:22:14.436Z"
   },
   {
    "duration": 6,
    "start_time": "2022-02-15T12:24:26.484Z"
   },
   {
    "duration": 154346,
    "start_time": "2022-02-15T12:24:36.243Z"
   },
   {
    "duration": 54833,
    "start_time": "2022-02-15T12:28:05.955Z"
   },
   {
    "duration": 15757,
    "start_time": "2022-02-15T12:32:34.756Z"
   },
   {
    "duration": 17977,
    "start_time": "2022-02-15T12:32:53.924Z"
   },
   {
    "duration": 131340,
    "start_time": "2022-02-15T12:36:04.796Z"
   },
   {
    "duration": 6,
    "start_time": "2022-02-15T12:38:25.595Z"
   },
   {
    "duration": 5,
    "start_time": "2022-02-15T12:38:44.835Z"
   },
   {
    "duration": 26562,
    "start_time": "2022-02-15T12:41:13.344Z"
   },
   {
    "duration": 131340,
    "start_time": "2022-02-15T12:41:39.910Z"
   },
   {
    "duration": 329,
    "start_time": "2022-02-15T13:41:54.324Z"
   },
   {
    "duration": 1280,
    "start_time": "2022-02-15T13:42:18.092Z"
   },
   {
    "duration": 41,
    "start_time": "2022-02-15T13:42:19.375Z"
   },
   {
    "duration": 13,
    "start_time": "2022-02-15T13:42:19.420Z"
   },
   {
    "duration": 6,
    "start_time": "2022-02-15T13:42:19.448Z"
   },
   {
    "duration": 29,
    "start_time": "2022-02-15T13:42:19.457Z"
   },
   {
    "duration": 11,
    "start_time": "2022-02-15T13:42:19.489Z"
   },
   {
    "duration": 15,
    "start_time": "2022-02-15T13:42:19.503Z"
   },
   {
    "duration": 9,
    "start_time": "2022-02-15T13:42:19.549Z"
   },
   {
    "duration": 9,
    "start_time": "2022-02-15T13:42:19.562Z"
   },
   {
    "duration": 5,
    "start_time": "2022-02-15T13:42:19.574Z"
   },
   {
    "duration": 11,
    "start_time": "2022-02-15T13:42:19.582Z"
   },
   {
    "duration": 14,
    "start_time": "2022-02-15T13:42:19.596Z"
   },
   {
    "duration": 41,
    "start_time": "2022-02-15T13:42:19.613Z"
   },
   {
    "duration": 9,
    "start_time": "2022-02-15T13:42:19.656Z"
   },
   {
    "duration": 8,
    "start_time": "2022-02-15T13:42:19.668Z"
   },
   {
    "duration": 13,
    "start_time": "2022-02-15T13:42:19.678Z"
   },
   {
    "duration": 11,
    "start_time": "2022-02-15T13:42:19.693Z"
   },
   {
    "duration": 57,
    "start_time": "2022-02-15T13:42:19.706Z"
   },
   {
    "duration": 10,
    "start_time": "2022-02-15T13:42:19.765Z"
   },
   {
    "duration": 24,
    "start_time": "2022-02-15T13:42:19.778Z"
   },
   {
    "duration": 6,
    "start_time": "2022-02-15T13:42:19.804Z"
   },
   {
    "duration": 43,
    "start_time": "2022-02-15T13:42:19.812Z"
   },
   {
    "duration": 5,
    "start_time": "2022-02-15T13:42:19.857Z"
   },
   {
    "duration": 21,
    "start_time": "2022-02-15T13:42:19.864Z"
   },
   {
    "duration": 56334,
    "start_time": "2022-02-15T13:42:19.887Z"
   },
   {
    "duration": 41,
    "start_time": "2022-02-15T13:43:16.224Z"
   },
   {
    "duration": 196,
    "start_time": "2022-02-15T13:43:16.353Z"
   },
   {
    "duration": 195,
    "start_time": "2022-02-15T13:43:16.552Z"
   },
   {
    "duration": 286,
    "start_time": "2022-02-15T13:43:47.363Z"
   },
   {
    "duration": 266,
    "start_time": "2022-02-15T13:44:17.893Z"
   },
   {
    "duration": 375,
    "start_time": "2022-02-15T13:46:11.975Z"
   },
   {
    "duration": 1339,
    "start_time": "2022-02-16T08:17:09.542Z"
   },
   {
    "duration": 32,
    "start_time": "2022-02-16T08:17:10.884Z"
   },
   {
    "duration": 12,
    "start_time": "2022-02-16T08:17:10.919Z"
   },
   {
    "duration": 6,
    "start_time": "2022-02-16T08:17:10.948Z"
   },
   {
    "duration": 32,
    "start_time": "2022-02-16T08:17:10.956Z"
   },
   {
    "duration": 11,
    "start_time": "2022-02-16T08:17:10.991Z"
   },
   {
    "duration": 17,
    "start_time": "2022-02-16T08:17:11.004Z"
   },
   {
    "duration": 28,
    "start_time": "2022-02-16T08:17:11.023Z"
   },
   {
    "duration": 12,
    "start_time": "2022-02-16T08:17:11.055Z"
   },
   {
    "duration": 13,
    "start_time": "2022-02-16T08:17:11.070Z"
   },
   {
    "duration": 23,
    "start_time": "2022-02-16T08:17:11.085Z"
   },
   {
    "duration": 30,
    "start_time": "2022-02-16T08:17:11.111Z"
   },
   {
    "duration": 20,
    "start_time": "2022-02-16T08:17:11.144Z"
   },
   {
    "duration": 22,
    "start_time": "2022-02-16T08:17:11.166Z"
   },
   {
    "duration": 19,
    "start_time": "2022-02-16T08:17:11.190Z"
   },
   {
    "duration": 11,
    "start_time": "2022-02-16T08:17:11.211Z"
   },
   {
    "duration": 22,
    "start_time": "2022-02-16T08:17:11.225Z"
   },
   {
    "duration": 31,
    "start_time": "2022-02-16T08:17:11.249Z"
   },
   {
    "duration": 27,
    "start_time": "2022-02-16T08:17:11.282Z"
   },
   {
    "duration": 18,
    "start_time": "2022-02-16T08:17:11.311Z"
   },
   {
    "duration": 26,
    "start_time": "2022-02-16T08:17:11.331Z"
   },
   {
    "duration": 15,
    "start_time": "2022-02-16T08:17:11.360Z"
   },
   {
    "duration": 15,
    "start_time": "2022-02-16T08:17:11.377Z"
   },
   {
    "duration": 24,
    "start_time": "2022-02-16T08:17:11.395Z"
   },
   {
    "duration": 419,
    "start_time": "2022-02-16T08:25:05.411Z"
   },
   {
    "duration": 5,
    "start_time": "2022-02-16T08:25:05.968Z"
   },
   {
    "duration": 5,
    "start_time": "2022-02-16T08:25:18.490Z"
   },
   {
    "duration": 70,
    "start_time": "2022-02-16T08:25:22.771Z"
   },
   {
    "duration": 4,
    "start_time": "2022-02-16T08:25:34.328Z"
   },
   {
    "duration": 5,
    "start_time": "2022-02-16T08:25:37.959Z"
   },
   {
    "duration": 343,
    "start_time": "2022-02-16T08:25:42.057Z"
   },
   {
    "duration": 4,
    "start_time": "2022-02-16T08:26:53.569Z"
   },
   {
    "duration": 357,
    "start_time": "2022-02-16T08:27:03.961Z"
   },
   {
    "duration": 96,
    "start_time": "2022-02-16T08:28:49.337Z"
   },
   {
    "duration": 334,
    "start_time": "2022-02-16T08:28:52.948Z"
   },
   {
    "duration": 5,
    "start_time": "2022-02-16T08:29:41.349Z"
   },
   {
    "duration": 138,
    "start_time": "2022-02-16T08:29:42.241Z"
   },
   {
    "duration": 312,
    "start_time": "2022-02-16T08:29:43.540Z"
   },
   {
    "duration": 3,
    "start_time": "2022-02-16T08:30:06.289Z"
   },
   {
    "duration": 133209,
    "start_time": "2022-02-16T08:30:07.441Z"
   },
   {
    "duration": 6,
    "start_time": "2022-02-16T08:33:34.505Z"
   },
   {
    "duration": 5,
    "start_time": "2022-02-16T08:33:59.929Z"
   },
   {
    "duration": 4,
    "start_time": "2022-02-16T08:34:01.425Z"
   },
   {
    "duration": 454,
    "start_time": "2022-02-16T08:34:02.829Z"
   },
   {
    "duration": 3,
    "start_time": "2022-02-16T08:34:33.709Z"
   },
   {
    "duration": 4,
    "start_time": "2022-02-16T08:34:34.476Z"
   },
   {
    "duration": 310,
    "start_time": "2022-02-16T08:34:35.809Z"
   },
   {
    "duration": 145,
    "start_time": "2022-02-16T08:35:28.398Z"
   },
   {
    "duration": 272,
    "start_time": "2022-02-16T08:36:05.928Z"
   },
   {
    "duration": 4,
    "start_time": "2022-02-16T08:36:18.261Z"
   },
   {
    "duration": 4,
    "start_time": "2022-02-16T08:36:26.069Z"
   },
   {
    "duration": 1361191,
    "start_time": "2022-02-16T08:36:29.110Z"
   },
   {
    "duration": 4,
    "start_time": "2022-02-16T08:59:42.657Z"
   },
   {
    "duration": 5,
    "start_time": "2022-02-16T08:59:44.949Z"
   },
   {
    "duration": 665521,
    "start_time": "2022-02-16T08:59:46.149Z"
   },
   {
    "duration": 5,
    "start_time": "2022-02-16T09:12:02.470Z"
   },
   {
    "duration": 243,
    "start_time": "2022-02-16T09:17:05.191Z"
   },
   {
    "duration": 191,
    "start_time": "2022-02-16T09:17:32.739Z"
   },
   {
    "duration": 365,
    "start_time": "2022-02-16T09:17:46.431Z"
   },
   {
    "duration": 495,
    "start_time": "2022-02-16T09:17:59.464Z"
   },
   {
    "duration": 235,
    "start_time": "2022-02-16T09:18:09.447Z"
   },
   {
    "duration": 337,
    "start_time": "2022-02-16T09:18:34.870Z"
   },
   {
    "duration": 310,
    "start_time": "2022-02-16T09:18:44.823Z"
   },
   {
    "duration": 378,
    "start_time": "2022-02-16T09:18:51.062Z"
   },
   {
    "duration": 262,
    "start_time": "2022-02-16T09:19:28.610Z"
   },
   {
    "duration": 4,
    "start_time": "2022-02-16T09:19:30.122Z"
   },
   {
    "duration": 4,
    "start_time": "2022-02-16T09:19:31.671Z"
   },
   {
    "duration": 56963,
    "start_time": "2022-02-16T09:19:32.926Z"
   },
   {
    "duration": 4,
    "start_time": "2022-02-16T09:20:29.892Z"
   },
   {
    "duration": 5,
    "start_time": "2022-02-16T09:20:49.683Z"
   },
   {
    "duration": 504,
    "start_time": "2022-02-16T09:21:40.110Z"
   },
   {
    "duration": 603,
    "start_time": "2022-02-16T09:22:12.411Z"
   },
   {
    "duration": 4,
    "start_time": "2022-02-16T09:22:37.840Z"
   },
   {
    "duration": 4,
    "start_time": "2022-02-16T09:22:38.971Z"
   },
   {
    "duration": 1441398,
    "start_time": "2022-02-16T09:22:40.183Z"
   },
   {
    "duration": 1861,
    "start_time": "2022-02-16T09:46:39.724Z"
   },
   {
    "duration": 1854,
    "start_time": "2022-02-16T09:46:39.732Z"
   },
   {
    "duration": 6258,
    "start_time": "2022-02-16T09:46:43.390Z"
   },
   {
    "duration": 7,
    "start_time": "2022-02-16T09:46:51.771Z"
   },
   {
    "duration": 5,
    "start_time": "2022-02-16T09:46:52.652Z"
   },
   {
    "duration": 406439,
    "start_time": "2022-02-16T09:46:53.192Z"
   },
   {
    "duration": 6,
    "start_time": "2022-02-16T09:54:12.370Z"
   },
   {
    "duration": 3,
    "start_time": "2022-02-16T11:54:47.296Z"
   },
   {
    "duration": 972,
    "start_time": "2022-02-16T11:55:10.394Z"
   },
   {
    "duration": 38,
    "start_time": "2022-02-16T11:55:11.368Z"
   },
   {
    "duration": 9,
    "start_time": "2022-02-16T11:55:11.408Z"
   },
   {
    "duration": 4,
    "start_time": "2022-02-16T11:55:11.419Z"
   },
   {
    "duration": 19,
    "start_time": "2022-02-16T11:55:11.425Z"
   },
   {
    "duration": 20,
    "start_time": "2022-02-16T11:55:11.446Z"
   },
   {
    "duration": 7,
    "start_time": "2022-02-16T11:55:11.467Z"
   },
   {
    "duration": 6,
    "start_time": "2022-02-16T11:55:11.476Z"
   },
   {
    "duration": 6,
    "start_time": "2022-02-16T11:55:11.485Z"
   },
   {
    "duration": 3,
    "start_time": "2022-02-16T11:55:11.492Z"
   },
   {
    "duration": 7,
    "start_time": "2022-02-16T11:55:11.497Z"
   },
   {
    "duration": 5,
    "start_time": "2022-02-16T11:55:11.506Z"
   },
   {
    "duration": 6,
    "start_time": "2022-02-16T11:55:11.513Z"
   },
   {
    "duration": 5,
    "start_time": "2022-02-16T11:55:11.546Z"
   },
   {
    "duration": 7,
    "start_time": "2022-02-16T11:55:11.552Z"
   },
   {
    "duration": 5,
    "start_time": "2022-02-16T11:55:11.561Z"
   },
   {
    "duration": 5,
    "start_time": "2022-02-16T11:55:11.567Z"
   },
   {
    "duration": 12,
    "start_time": "2022-02-16T11:55:11.573Z"
   },
   {
    "duration": 6,
    "start_time": "2022-02-16T11:55:11.586Z"
   },
   {
    "duration": 9,
    "start_time": "2022-02-16T11:55:11.594Z"
   },
   {
    "duration": 7,
    "start_time": "2022-02-16T11:55:11.605Z"
   },
   {
    "duration": 8,
    "start_time": "2022-02-16T11:55:11.645Z"
   },
   {
    "duration": 3,
    "start_time": "2022-02-16T11:55:11.654Z"
   },
   {
    "duration": 10,
    "start_time": "2022-02-16T11:55:11.658Z"
   },
   {
    "duration": 3,
    "start_time": "2022-02-16T11:55:22.553Z"
   },
   {
    "duration": 13,
    "start_time": "2022-02-16T11:55:34.374Z"
   },
   {
    "duration": 8,
    "start_time": "2022-02-16T11:55:34.805Z"
   },
   {
    "duration": 164,
    "start_time": "2022-02-16T11:55:45.914Z"
   },
   {
    "duration": 2,
    "start_time": "2022-02-16T11:55:48.233Z"
   },
   {
    "duration": 2,
    "start_time": "2022-02-16T11:55:48.733Z"
   },
   {
    "duration": 32702,
    "start_time": "2022-02-16T11:55:49.945Z"
   },
   {
    "duration": 4,
    "start_time": "2022-02-16T11:57:34.907Z"
   },
   {
    "duration": 336,
    "start_time": "2022-02-16T11:57:55.593Z"
   },
   {
    "duration": 20,
    "start_time": "2022-02-16T11:59:20.501Z"
   },
   {
    "duration": 3,
    "start_time": "2022-02-16T12:00:28.373Z"
   },
   {
    "duration": 3,
    "start_time": "2022-02-16T12:00:43.413Z"
   },
   {
    "duration": 137046,
    "start_time": "2022-02-16T12:00:44.633Z"
   },
   {
    "duration": 4,
    "start_time": "2022-02-16T12:04:37.215Z"
   },
   {
    "duration": 652,
    "start_time": "2022-02-16T12:05:13.750Z"
   },
   {
    "duration": 35,
    "start_time": "2022-02-16T12:05:23.219Z"
   },
   {
    "duration": 589,
    "start_time": "2022-02-16T12:06:20.390Z"
   },
   {
    "duration": 31,
    "start_time": "2022-02-16T12:06:59.966Z"
   },
   {
    "duration": 112,
    "start_time": "2022-02-16T12:10:33.719Z"
   },
   {
    "duration": 175454,
    "start_time": "2022-02-16T12:10:45.320Z"
   },
   {
    "duration": 434,
    "start_time": "2022-02-16T12:15:26.185Z"
   },
   {
    "duration": 448,
    "start_time": "2022-02-16T12:17:44.426Z"
   },
   {
    "duration": 31,
    "start_time": "2022-02-16T12:18:36.986Z"
   },
   {
    "duration": 32,
    "start_time": "2022-02-16T12:18:51.386Z"
   },
   {
    "duration": 33,
    "start_time": "2022-02-16T12:19:36.885Z"
   },
   {
    "duration": 33,
    "start_time": "2022-02-16T12:19:57.702Z"
   },
   {
    "duration": 266,
    "start_time": "2022-02-16T12:20:42.361Z"
   },
   {
    "duration": 22,
    "start_time": "2022-02-16T12:20:47.126Z"
   },
   {
    "duration": 437,
    "start_time": "2022-02-16T12:21:20.058Z"
   },
   {
    "duration": 32,
    "start_time": "2022-02-16T12:21:23.190Z"
   },
   {
    "duration": 6,
    "start_time": "2022-02-16T13:09:34.826Z"
   },
   {
    "duration": 5,
    "start_time": "2022-02-16T13:09:54.845Z"
   },
   {
    "duration": 6,
    "start_time": "2022-02-16T13:14:55.525Z"
   },
   {
    "duration": 5,
    "start_time": "2022-02-16T13:15:08.338Z"
   },
   {
    "duration": 5,
    "start_time": "2022-02-16T13:15:19.745Z"
   },
   {
    "duration": 6,
    "start_time": "2022-02-16T13:15:39.029Z"
   },
   {
    "duration": 6,
    "start_time": "2022-02-16T13:16:03.927Z"
   },
   {
    "duration": 6,
    "start_time": "2022-02-16T13:16:16.386Z"
   },
   {
    "duration": 122,
    "start_time": "2022-02-16T13:16:41.345Z"
   },
   {
    "duration": 6,
    "start_time": "2022-02-16T13:16:48.626Z"
   },
   {
    "duration": 7,
    "start_time": "2022-02-16T13:16:55.172Z"
   },
   {
    "duration": 6,
    "start_time": "2022-02-16T13:17:08.626Z"
   },
   {
    "duration": 4,
    "start_time": "2022-02-16T13:22:41.268Z"
   },
   {
    "duration": 31,
    "start_time": "2022-02-16T13:22:41.274Z"
   },
   {
    "duration": 7,
    "start_time": "2022-02-16T13:22:41.307Z"
   },
   {
    "duration": 4,
    "start_time": "2022-02-16T13:22:41.316Z"
   },
   {
    "duration": 15,
    "start_time": "2022-02-16T13:22:41.321Z"
   },
   {
    "duration": 8,
    "start_time": "2022-02-16T13:22:41.337Z"
   },
   {
    "duration": 6,
    "start_time": "2022-02-16T13:22:41.346Z"
   },
   {
    "duration": 7,
    "start_time": "2022-02-16T13:22:41.353Z"
   },
   {
    "duration": 7,
    "start_time": "2022-02-16T13:22:41.362Z"
   },
   {
    "duration": 6,
    "start_time": "2022-02-16T13:22:41.371Z"
   },
   {
    "duration": 6,
    "start_time": "2022-02-16T13:22:41.379Z"
   },
   {
    "duration": 7,
    "start_time": "2022-02-16T13:22:41.387Z"
   },
   {
    "duration": 5,
    "start_time": "2022-02-16T13:22:41.395Z"
   },
   {
    "duration": 5,
    "start_time": "2022-02-16T13:22:41.401Z"
   },
   {
    "duration": 42,
    "start_time": "2022-02-16T13:22:41.407Z"
   },
   {
    "duration": 6,
    "start_time": "2022-02-16T13:22:41.450Z"
   },
   {
    "duration": 10,
    "start_time": "2022-02-16T13:22:41.458Z"
   },
   {
    "duration": 14,
    "start_time": "2022-02-16T13:22:41.469Z"
   },
   {
    "duration": 8,
    "start_time": "2022-02-16T13:22:41.484Z"
   },
   {
    "duration": 12,
    "start_time": "2022-02-16T13:22:41.493Z"
   },
   {
    "duration": 5,
    "start_time": "2022-02-16T13:22:41.506Z"
   },
   {
    "duration": 6,
    "start_time": "2022-02-16T13:22:41.513Z"
   },
   {
    "duration": 3,
    "start_time": "2022-02-16T13:22:41.546Z"
   },
   {
    "duration": 10,
    "start_time": "2022-02-16T13:22:41.550Z"
   },
   {
    "duration": 36741,
    "start_time": "2022-02-16T13:22:41.562Z"
   },
   {
    "duration": 142,
    "start_time": "2022-02-16T13:23:18.306Z"
   },
   {
    "duration": 8,
    "start_time": "2022-02-16T13:23:18.450Z"
   },
   {
    "duration": 98,
    "start_time": "2022-02-16T13:23:18.460Z"
   },
   {
    "duration": 22187,
    "start_time": "2022-02-16T13:23:18.560Z"
   },
   {
    "duration": 15,
    "start_time": "2022-02-16T13:23:40.748Z"
   },
   {
    "duration": 84,
    "start_time": "2022-02-16T13:23:40.766Z"
   },
   {
    "duration": 4,
    "start_time": "2022-02-16T13:27:48.021Z"
   },
   {
    "duration": 970,
    "start_time": "2022-02-17T07:51:46.159Z"
   },
   {
    "duration": 24,
    "start_time": "2022-02-17T07:51:47.131Z"
   },
   {
    "duration": 7,
    "start_time": "2022-02-17T07:51:47.157Z"
   },
   {
    "duration": 3,
    "start_time": "2022-02-17T07:51:47.166Z"
   },
   {
    "duration": 21,
    "start_time": "2022-02-17T07:51:47.171Z"
   },
   {
    "duration": 24,
    "start_time": "2022-02-17T07:51:47.193Z"
   },
   {
    "duration": 6,
    "start_time": "2022-02-17T07:51:47.218Z"
   },
   {
    "duration": 23,
    "start_time": "2022-02-17T07:51:47.227Z"
   },
   {
    "duration": 16,
    "start_time": "2022-02-17T07:51:47.252Z"
   },
   {
    "duration": 17,
    "start_time": "2022-02-17T07:51:47.270Z"
   },
   {
    "duration": 30,
    "start_time": "2022-02-17T07:51:47.288Z"
   },
   {
    "duration": 15,
    "start_time": "2022-02-17T07:51:47.319Z"
   },
   {
    "duration": 12,
    "start_time": "2022-02-17T07:51:47.336Z"
   },
   {
    "duration": 20,
    "start_time": "2022-02-17T07:51:47.350Z"
   },
   {
    "duration": 6,
    "start_time": "2022-02-17T07:51:47.372Z"
   },
   {
    "duration": 22,
    "start_time": "2022-02-17T07:51:47.380Z"
   },
   {
    "duration": 13,
    "start_time": "2022-02-17T07:51:47.403Z"
   },
   {
    "duration": 25,
    "start_time": "2022-02-17T07:51:47.418Z"
   },
   {
    "duration": 8,
    "start_time": "2022-02-17T07:51:47.444Z"
   },
   {
    "duration": 14,
    "start_time": "2022-02-17T07:51:47.454Z"
   },
   {
    "duration": 15,
    "start_time": "2022-02-17T07:51:47.470Z"
   },
   {
    "duration": 15,
    "start_time": "2022-02-17T07:51:47.486Z"
   },
   {
    "duration": 14,
    "start_time": "2022-02-17T07:51:47.505Z"
   },
   {
    "duration": 9,
    "start_time": "2022-02-17T07:51:47.521Z"
   },
   {
    "duration": 38721,
    "start_time": "2022-02-17T07:51:47.532Z"
   },
   {
    "duration": 63,
    "start_time": "2022-02-17T07:52:26.254Z"
   },
   {
    "duration": 97,
    "start_time": "2022-02-17T07:52:26.320Z"
   },
   {
    "duration": 94,
    "start_time": "2022-02-17T07:52:26.420Z"
   },
   {
    "duration": 23872,
    "start_time": "2022-02-17T07:52:26.518Z"
   },
   {
    "duration": 25,
    "start_time": "2022-02-17T07:52:50.392Z"
   },
   {
    "duration": 100,
    "start_time": "2022-02-17T07:52:50.420Z"
   },
   {
    "duration": 99,
    "start_time": "2022-02-17T07:52:50.522Z"
   },
   {
    "duration": 160802,
    "start_time": "2022-02-17T07:52:50.713Z"
   },
   {
    "duration": 4,
    "start_time": "2022-02-17T07:56:02.136Z"
   },
   {
    "duration": 95469,
    "start_time": "2022-02-17T07:56:09.049Z"
   },
   {
    "duration": 4,
    "start_time": "2022-02-17T08:03:08.586Z"
   },
   {
    "duration": 31,
    "start_time": "2022-02-17T08:03:08.592Z"
   },
   {
    "duration": 7,
    "start_time": "2022-02-17T08:03:08.625Z"
   },
   {
    "duration": 5,
    "start_time": "2022-02-17T08:03:08.634Z"
   },
   {
    "duration": 14,
    "start_time": "2022-02-17T08:03:08.640Z"
   },
   {
    "duration": 7,
    "start_time": "2022-02-17T08:03:08.656Z"
   },
   {
    "duration": 5,
    "start_time": "2022-02-17T08:03:08.666Z"
   },
   {
    "duration": 6,
    "start_time": "2022-02-17T08:03:08.713Z"
   },
   {
    "duration": 8,
    "start_time": "2022-02-17T08:03:08.720Z"
   },
   {
    "duration": 3,
    "start_time": "2022-02-17T08:03:08.730Z"
   },
   {
    "duration": 6,
    "start_time": "2022-02-17T08:03:08.735Z"
   },
   {
    "duration": 8,
    "start_time": "2022-02-17T08:03:08.743Z"
   },
   {
    "duration": 5,
    "start_time": "2022-02-17T08:03:08.752Z"
   },
   {
    "duration": 6,
    "start_time": "2022-02-17T08:03:08.759Z"
   },
   {
    "duration": 6,
    "start_time": "2022-02-17T08:03:08.767Z"
   },
   {
    "duration": 7,
    "start_time": "2022-02-17T08:03:08.812Z"
   },
   {
    "duration": 5,
    "start_time": "2022-02-17T08:03:08.820Z"
   },
   {
    "duration": 13,
    "start_time": "2022-02-17T08:03:08.827Z"
   },
   {
    "duration": 6,
    "start_time": "2022-02-17T08:03:08.843Z"
   },
   {
    "duration": 11,
    "start_time": "2022-02-17T08:03:08.851Z"
   },
   {
    "duration": 4,
    "start_time": "2022-02-17T08:03:08.864Z"
   },
   {
    "duration": 46,
    "start_time": "2022-02-17T08:03:08.870Z"
   },
   {
    "duration": 4,
    "start_time": "2022-02-17T08:03:08.917Z"
   },
   {
    "duration": 9,
    "start_time": "2022-02-17T08:03:08.922Z"
   },
   {
    "duration": 38071,
    "start_time": "2022-02-17T08:03:08.932Z"
   },
   {
    "duration": 21,
    "start_time": "2022-02-17T08:03:47.004Z"
   },
   {
    "duration": 91,
    "start_time": "2022-02-17T08:03:47.027Z"
   },
   {
    "duration": 98,
    "start_time": "2022-02-17T08:03:47.121Z"
   },
   {
    "duration": 24222,
    "start_time": "2022-02-17T08:03:47.221Z"
   },
   {
    "duration": 15,
    "start_time": "2022-02-17T08:04:11.445Z"
   },
   {
    "duration": 98,
    "start_time": "2022-02-17T08:04:11.516Z"
   },
   {
    "duration": 95,
    "start_time": "2022-02-17T08:04:11.617Z"
   },
   {
    "duration": 157857,
    "start_time": "2022-02-17T08:04:11.715Z"
   },
   {
    "duration": 3,
    "start_time": "2022-02-17T08:06:49.574Z"
   },
   {
    "duration": 94754,
    "start_time": "2022-02-17T08:06:49.579Z"
   },
   {
    "duration": 80367,
    "start_time": "2022-02-17T08:08:24.335Z"
   },
   {
    "duration": 14,
    "start_time": "2022-02-17T08:27:05.820Z"
   },
   {
    "duration": 104,
    "start_time": "2022-02-17T08:28:01.164Z"
   },
   {
    "duration": 4,
    "start_time": "2022-02-17T08:28:03.844Z"
   },
   {
    "duration": 4,
    "start_time": "2022-02-17T08:29:10.578Z"
   },
   {
    "duration": 108,
    "start_time": "2022-02-17T08:44:18.291Z"
   },
   {
    "duration": 3,
    "start_time": "2022-02-17T08:44:20.555Z"
   },
   {
    "duration": 274,
    "start_time": "2022-02-17T10:56:33.875Z"
   },
   {
    "duration": 97286,
    "start_time": "2022-02-17T10:57:58.420Z"
   },
   {
    "duration": 196,
    "start_time": "2022-02-17T11:01:04.076Z"
   },
   {
    "duration": 98202,
    "start_time": "2022-02-17T11:02:12.965Z"
   },
   {
    "duration": 24,
    "start_time": "2022-02-17T11:04:07.093Z"
   },
   {
    "duration": 5,
    "start_time": "2022-02-17T11:04:08.256Z"
   },
   {
    "duration": 4,
    "start_time": "2022-02-17T11:04:38.326Z"
   },
   {
    "duration": 29,
    "start_time": "2022-02-17T11:05:12.792Z"
   },
   {
    "duration": 3,
    "start_time": "2022-02-17T11:05:13.639Z"
   },
   {
    "duration": 4,
    "start_time": "2022-02-17T11:05:14.335Z"
   },
   {
    "duration": 52,
    "start_time": "2022-02-17T11:09:41.906Z"
   },
   {
    "duration": 3,
    "start_time": "2022-02-17T11:09:42.906Z"
   },
   {
    "duration": 4,
    "start_time": "2022-02-17T11:09:44.580Z"
   },
   {
    "duration": 71,
    "start_time": "2022-02-17T11:10:39.963Z"
   },
   {
    "duration": 4,
    "start_time": "2022-02-17T11:10:42.707Z"
   },
   {
    "duration": 4,
    "start_time": "2022-02-17T11:10:44.228Z"
   },
   {
    "duration": 50,
    "start_time": "2022-02-17T11:10:52.283Z"
   },
   {
    "duration": 4,
    "start_time": "2022-02-17T11:10:52.899Z"
   },
   {
    "duration": 4,
    "start_time": "2022-02-17T11:10:53.515Z"
   },
   {
    "duration": 4,
    "start_time": "2022-02-17T11:11:05.588Z"
   },
   {
    "duration": 4,
    "start_time": "2022-02-17T11:11:07.228Z"
   },
   {
    "duration": 66,
    "start_time": "2022-02-17T11:11:11.803Z"
   },
   {
    "duration": 4,
    "start_time": "2022-02-17T11:11:12.259Z"
   },
   {
    "duration": 3,
    "start_time": "2022-02-17T11:11:12.853Z"
   },
   {
    "duration": 60,
    "start_time": "2022-02-17T11:12:57.598Z"
   },
   {
    "duration": 4,
    "start_time": "2022-02-17T11:13:00.086Z"
   },
   {
    "duration": 4,
    "start_time": "2022-02-17T11:13:01.518Z"
   },
   {
    "duration": 41,
    "start_time": "2022-02-17T11:16:15.319Z"
   },
   {
    "duration": 3,
    "start_time": "2022-02-17T11:16:18.287Z"
   },
   {
    "duration": 4,
    "start_time": "2022-02-17T11:16:18.856Z"
   },
   {
    "duration": 234,
    "start_time": "2022-02-17T11:17:00.554Z"
   },
   {
    "duration": 215,
    "start_time": "2022-02-17T11:17:27.010Z"
   },
   {
    "duration": 209,
    "start_time": "2022-02-17T11:17:35.595Z"
   },
   {
    "duration": 64,
    "start_time": "2022-02-17T11:20:00.662Z"
   },
   {
    "duration": 17,
    "start_time": "2022-02-17T11:20:07.372Z"
   },
   {
    "duration": 4,
    "start_time": "2022-02-17T11:20:17.019Z"
   },
   {
    "duration": 4,
    "start_time": "2022-02-17T11:20:17.531Z"
   },
   {
    "duration": 16,
    "start_time": "2022-02-17T11:20:31.045Z"
   },
   {
    "duration": 4,
    "start_time": "2022-02-17T11:20:31.932Z"
   },
   {
    "duration": 4,
    "start_time": "2022-02-17T11:20:32.856Z"
   },
   {
    "duration": 43,
    "start_time": "2022-02-17T11:20:47.396Z"
   },
   {
    "duration": 5,
    "start_time": "2022-02-17T11:20:48.453Z"
   },
   {
    "duration": 4,
    "start_time": "2022-02-17T11:20:49.244Z"
   },
   {
    "duration": 16,
    "start_time": "2022-02-17T11:20:50.501Z"
   },
   {
    "duration": 3,
    "start_time": "2022-02-17T11:20:50.948Z"
   },
   {
    "duration": 4,
    "start_time": "2022-02-17T11:20:51.484Z"
   },
   {
    "duration": 18,
    "start_time": "2022-02-17T11:21:36.983Z"
   },
   {
    "duration": 4,
    "start_time": "2022-02-17T11:21:38.460Z"
   },
   {
    "duration": 3,
    "start_time": "2022-02-17T11:21:39.701Z"
   },
   {
    "duration": 276,
    "start_time": "2022-02-17T11:38:48.941Z"
   },
   {
    "duration": 57,
    "start_time": "2022-02-17T11:38:57.448Z"
   },
   {
    "duration": 61,
    "start_time": "2022-02-17T11:39:15.893Z"
   },
   {
    "duration": 73,
    "start_time": "2022-02-17T11:46:19.334Z"
   },
   {
    "duration": 50,
    "start_time": "2022-02-17T11:46:38.390Z"
   },
   {
    "duration": 43,
    "start_time": "2022-02-17T11:47:05.746Z"
   },
   {
    "duration": 18,
    "start_time": "2022-02-17T11:47:08.234Z"
   },
   {
    "duration": 1047,
    "start_time": "2022-02-17T11:52:19.415Z"
   },
   {
    "duration": 27,
    "start_time": "2022-02-17T11:52:20.464Z"
   },
   {
    "duration": 9,
    "start_time": "2022-02-17T11:52:20.492Z"
   },
   {
    "duration": 15,
    "start_time": "2022-02-17T11:52:20.503Z"
   },
   {
    "duration": 18,
    "start_time": "2022-02-17T11:52:20.520Z"
   },
   {
    "duration": 10,
    "start_time": "2022-02-17T11:52:20.540Z"
   },
   {
    "duration": 5,
    "start_time": "2022-02-17T11:52:20.552Z"
   },
   {
    "duration": 6,
    "start_time": "2022-02-17T11:52:20.560Z"
   },
   {
    "duration": 6,
    "start_time": "2022-02-17T11:52:20.567Z"
   },
   {
    "duration": 46,
    "start_time": "2022-02-17T11:52:20.574Z"
   },
   {
    "duration": 5,
    "start_time": "2022-02-17T11:52:20.622Z"
   },
   {
    "duration": 10,
    "start_time": "2022-02-17T11:52:20.628Z"
   },
   {
    "duration": 5,
    "start_time": "2022-02-17T11:52:20.640Z"
   },
   {
    "duration": 6,
    "start_time": "2022-02-17T11:52:20.646Z"
   },
   {
    "duration": 6,
    "start_time": "2022-02-17T11:52:20.653Z"
   },
   {
    "duration": 8,
    "start_time": "2022-02-17T11:52:20.661Z"
   },
   {
    "duration": 50,
    "start_time": "2022-02-17T11:52:20.671Z"
   },
   {
    "duration": 13,
    "start_time": "2022-02-17T11:52:20.722Z"
   },
   {
    "duration": 7,
    "start_time": "2022-02-17T11:52:20.737Z"
   },
   {
    "duration": 10,
    "start_time": "2022-02-17T11:52:20.746Z"
   },
   {
    "duration": 9,
    "start_time": "2022-02-17T11:52:20.758Z"
   },
   {
    "duration": 16,
    "start_time": "2022-02-17T11:52:20.769Z"
   },
   {
    "duration": 3,
    "start_time": "2022-02-17T11:52:20.788Z"
   },
   {
    "duration": 33,
    "start_time": "2022-02-17T11:52:20.793Z"
   },
   {
    "duration": 38475,
    "start_time": "2022-02-17T11:52:20.828Z"
   },
   {
    "duration": 27,
    "start_time": "2022-02-17T11:52:59.304Z"
   },
   {
    "duration": 92,
    "start_time": "2022-02-17T11:52:59.334Z"
   },
   {
    "duration": 193,
    "start_time": "2022-02-17T11:52:59.429Z"
   },
   {
    "duration": 14099,
    "start_time": "2022-02-17T11:52:59.624Z"
   },
   {
    "duration": 1103,
    "start_time": "2022-02-17T11:53:12.622Z"
   },
   {
    "duration": 1101,
    "start_time": "2022-02-17T11:53:12.625Z"
   },
   {
    "duration": 1098,
    "start_time": "2022-02-17T11:53:12.629Z"
   },
   {
    "duration": 1095,
    "start_time": "2022-02-17T11:53:12.633Z"
   },
   {
    "duration": 1092,
    "start_time": "2022-02-17T11:53:12.637Z"
   },
   {
    "duration": 1090,
    "start_time": "2022-02-17T11:53:12.640Z"
   },
   {
    "duration": 1088,
    "start_time": "2022-02-17T11:53:12.643Z"
   },
   {
    "duration": 1067,
    "start_time": "2022-02-17T11:53:12.665Z"
   },
   {
    "duration": 1065,
    "start_time": "2022-02-17T11:53:12.668Z"
   },
   {
    "duration": 1062,
    "start_time": "2022-02-17T11:53:12.672Z"
   },
   {
    "duration": 1060,
    "start_time": "2022-02-17T11:53:12.675Z"
   },
   {
    "duration": 1058,
    "start_time": "2022-02-17T11:53:12.678Z"
   },
   {
    "duration": 1057,
    "start_time": "2022-02-17T11:53:12.680Z"
   },
   {
    "duration": 1053,
    "start_time": "2022-02-17T11:53:12.684Z"
   },
   {
    "duration": 6,
    "start_time": "2022-02-17T11:53:38.676Z"
   },
   {
    "duration": 1044,
    "start_time": "2022-02-17T11:57:34.991Z"
   },
   {
    "duration": 25,
    "start_time": "2022-02-17T11:57:36.037Z"
   },
   {
    "duration": 8,
    "start_time": "2022-02-17T11:57:36.064Z"
   },
   {
    "duration": 4,
    "start_time": "2022-02-17T11:57:36.074Z"
   },
   {
    "duration": 20,
    "start_time": "2022-02-17T11:57:36.080Z"
   },
   {
    "duration": 25,
    "start_time": "2022-02-17T11:57:36.101Z"
   },
   {
    "duration": 6,
    "start_time": "2022-02-17T11:57:36.127Z"
   },
   {
    "duration": 6,
    "start_time": "2022-02-17T11:57:36.136Z"
   },
   {
    "duration": 6,
    "start_time": "2022-02-17T11:57:36.143Z"
   },
   {
    "duration": 4,
    "start_time": "2022-02-17T11:57:36.151Z"
   },
   {
    "duration": 6,
    "start_time": "2022-02-17T11:57:36.157Z"
   },
   {
    "duration": 7,
    "start_time": "2022-02-17T11:57:36.165Z"
   },
   {
    "duration": 6,
    "start_time": "2022-02-17T11:57:36.220Z"
   },
   {
    "duration": 6,
    "start_time": "2022-02-17T11:57:36.228Z"
   },
   {
    "duration": 16,
    "start_time": "2022-02-17T11:57:36.236Z"
   },
   {
    "duration": 7,
    "start_time": "2022-02-17T11:57:36.254Z"
   },
   {
    "duration": 6,
    "start_time": "2022-02-17T11:57:36.262Z"
   },
   {
    "duration": 13,
    "start_time": "2022-02-17T11:57:36.270Z"
   },
   {
    "duration": 41,
    "start_time": "2022-02-17T11:57:36.284Z"
   },
   {
    "duration": 12,
    "start_time": "2022-02-17T11:57:36.326Z"
   },
   {
    "duration": 280,
    "start_time": "2022-02-17T11:57:36.340Z"
   },
   {
    "duration": 1018,
    "start_time": "2022-02-17T11:57:35.605Z"
   },
   {
    "duration": 1017,
    "start_time": "2022-02-17T11:57:35.608Z"
   },
   {
    "duration": 1015,
    "start_time": "2022-02-17T11:57:35.611Z"
   },
   {
    "duration": 1013,
    "start_time": "2022-02-17T11:57:35.614Z"
   },
   {
    "duration": 1012,
    "start_time": "2022-02-17T11:57:35.617Z"
   },
   {
    "duration": 1010,
    "start_time": "2022-02-17T11:57:35.620Z"
   },
   {
    "duration": 1009,
    "start_time": "2022-02-17T11:57:35.623Z"
   },
   {
    "duration": 1007,
    "start_time": "2022-02-17T11:57:35.626Z"
   },
   {
    "duration": 1006,
    "start_time": "2022-02-17T11:57:35.629Z"
   },
   {
    "duration": 1003,
    "start_time": "2022-02-17T11:57:35.633Z"
   },
   {
    "duration": 1002,
    "start_time": "2022-02-17T11:57:35.636Z"
   },
   {
    "duration": 1001,
    "start_time": "2022-02-17T11:57:35.638Z"
   },
   {
    "duration": 999,
    "start_time": "2022-02-17T11:57:35.641Z"
   },
   {
    "duration": 998,
    "start_time": "2022-02-17T11:57:35.644Z"
   },
   {
    "duration": 997,
    "start_time": "2022-02-17T11:57:35.646Z"
   },
   {
    "duration": 996,
    "start_time": "2022-02-17T11:57:35.649Z"
   },
   {
    "duration": 994,
    "start_time": "2022-02-17T11:57:35.652Z"
   },
   {
    "duration": 993,
    "start_time": "2022-02-17T11:57:35.655Z"
   },
   {
    "duration": 991,
    "start_time": "2022-02-17T11:57:35.658Z"
   },
   {
    "duration": 989,
    "start_time": "2022-02-17T11:57:35.661Z"
   },
   {
    "duration": 988,
    "start_time": "2022-02-17T11:57:35.664Z"
   },
   {
    "duration": 987,
    "start_time": "2022-02-17T11:57:35.666Z"
   },
   {
    "duration": 1020,
    "start_time": "2022-02-17T12:06:51.350Z"
   },
   {
    "duration": 34,
    "start_time": "2022-02-17T12:06:52.372Z"
   },
   {
    "duration": 20,
    "start_time": "2022-02-17T12:06:52.409Z"
   },
   {
    "duration": 5,
    "start_time": "2022-02-17T12:06:52.432Z"
   },
   {
    "duration": 27,
    "start_time": "2022-02-17T12:06:52.439Z"
   },
   {
    "duration": 12,
    "start_time": "2022-02-17T12:06:52.468Z"
   },
   {
    "duration": 39,
    "start_time": "2022-02-17T12:06:52.482Z"
   },
   {
    "duration": 7,
    "start_time": "2022-02-17T12:06:52.525Z"
   },
   {
    "duration": 8,
    "start_time": "2022-02-17T12:06:52.535Z"
   },
   {
    "duration": 5,
    "start_time": "2022-02-17T12:06:52.546Z"
   },
   {
    "duration": 7,
    "start_time": "2022-02-17T12:06:52.553Z"
   },
   {
    "duration": 59,
    "start_time": "2022-02-17T12:06:52.562Z"
   },
   {
    "duration": 9,
    "start_time": "2022-02-17T12:06:52.623Z"
   },
   {
    "duration": 8,
    "start_time": "2022-02-17T12:06:52.635Z"
   },
   {
    "duration": 7,
    "start_time": "2022-02-17T12:06:52.645Z"
   },
   {
    "duration": 10,
    "start_time": "2022-02-17T12:06:52.654Z"
   },
   {
    "duration": 7,
    "start_time": "2022-02-17T12:06:52.666Z"
   },
   {
    "duration": 58,
    "start_time": "2022-02-17T12:06:52.676Z"
   },
   {
    "duration": 10,
    "start_time": "2022-02-17T12:06:52.736Z"
   },
   {
    "duration": 18,
    "start_time": "2022-02-17T12:06:52.748Z"
   },
   {
    "duration": 6,
    "start_time": "2022-02-17T12:06:52.768Z"
   },
   {
    "duration": 12,
    "start_time": "2022-02-17T12:06:52.776Z"
   },
   {
    "duration": 4,
    "start_time": "2022-02-17T12:06:52.821Z"
   },
   {
    "duration": 14,
    "start_time": "2022-02-17T12:06:52.828Z"
   },
   {
    "duration": 22,
    "start_time": "2022-02-17T12:06:52.844Z"
   },
   {
    "duration": 38574,
    "start_time": "2022-02-17T12:06:52.868Z"
   },
   {
    "duration": 17,
    "start_time": "2022-02-17T12:07:31.444Z"
   },
   {
    "duration": 99,
    "start_time": "2022-02-17T12:07:31.523Z"
   },
   {
    "duration": 24366,
    "start_time": "2022-02-17T12:07:31.629Z"
   },
   {
    "duration": 33,
    "start_time": "2022-02-17T12:07:55.997Z"
   },
   {
    "duration": 102,
    "start_time": "2022-02-17T12:07:56.033Z"
   },
   {
    "duration": 84,
    "start_time": "2022-02-17T12:07:56.139Z"
   },
   {
    "duration": 163712,
    "start_time": "2022-02-17T12:07:56.227Z"
   },
   {
    "duration": 4,
    "start_time": "2022-02-17T12:10:39.941Z"
   },
   {
    "duration": 94070,
    "start_time": "2022-02-17T12:10:39.946Z"
   },
   {
    "duration": 79848,
    "start_time": "2022-02-17T12:12:14.019Z"
   },
   {
    "duration": 50,
    "start_time": "2022-02-17T12:13:33.869Z"
   },
   {
    "duration": 217,
    "start_time": "2022-02-17T12:13:33.921Z"
   },
   {
    "duration": 3,
    "start_time": "2022-02-17T12:13:34.140Z"
   },
   {
    "duration": 76,
    "start_time": "2022-02-17T12:13:34.145Z"
   },
   {
    "duration": 112,
    "start_time": "2022-02-17T12:13:34.224Z"
   },
   {
    "duration": 212,
    "start_time": "2022-02-17T12:13:34.339Z"
   },
   {
    "duration": 18,
    "start_time": "2022-02-17T12:13:34.552Z"
   },
   {
    "duration": 1063,
    "start_time": "2022-02-18T07:46:10.513Z"
   },
   {
    "duration": 672,
    "start_time": "2022-02-18T07:46:11.578Z"
   },
   {
    "duration": 7,
    "start_time": "2022-02-18T07:46:12.252Z"
   },
   {
    "duration": 18,
    "start_time": "2022-02-18T07:46:12.261Z"
   },
   {
    "duration": 27,
    "start_time": "2022-02-18T07:46:12.281Z"
   },
   {
    "duration": 15,
    "start_time": "2022-02-18T07:46:12.310Z"
   },
   {
    "duration": 25,
    "start_time": "2022-02-18T07:46:12.327Z"
   },
   {
    "duration": 14,
    "start_time": "2022-02-18T07:46:12.353Z"
   },
   {
    "duration": 17,
    "start_time": "2022-02-18T07:46:12.369Z"
   },
   {
    "duration": 5,
    "start_time": "2022-02-18T07:46:12.388Z"
   },
   {
    "duration": 15,
    "start_time": "2022-02-18T07:46:12.394Z"
   },
   {
    "duration": 21,
    "start_time": "2022-02-18T07:46:12.411Z"
   },
   {
    "duration": 6,
    "start_time": "2022-02-18T07:46:12.433Z"
   },
   {
    "duration": 21,
    "start_time": "2022-02-18T07:46:12.440Z"
   },
   {
    "duration": 14,
    "start_time": "2022-02-18T07:46:12.462Z"
   },
   {
    "duration": 13,
    "start_time": "2022-02-18T07:46:12.477Z"
   },
   {
    "duration": 20,
    "start_time": "2022-02-18T07:46:12.491Z"
   },
   {
    "duration": 18,
    "start_time": "2022-02-18T07:46:12.512Z"
   },
   {
    "duration": 14,
    "start_time": "2022-02-18T07:46:12.531Z"
   },
   {
    "duration": 11,
    "start_time": "2022-02-18T07:46:12.546Z"
   },
   {
    "duration": 24,
    "start_time": "2022-02-18T07:46:12.558Z"
   },
   {
    "duration": 25,
    "start_time": "2022-02-18T07:46:12.583Z"
   },
   {
    "duration": 3,
    "start_time": "2022-02-18T07:46:12.610Z"
   },
   {
    "duration": 20,
    "start_time": "2022-02-18T07:46:12.614Z"
   },
   {
    "duration": 11,
    "start_time": "2022-02-18T07:46:12.635Z"
   },
   {
    "duration": 38698,
    "start_time": "2022-02-18T07:46:12.647Z"
   },
   {
    "duration": 90,
    "start_time": "2022-02-18T07:46:51.348Z"
   },
   {
    "duration": 97,
    "start_time": "2022-02-18T07:46:51.440Z"
   },
   {
    "duration": 8237,
    "start_time": "2022-02-18T07:46:51.539Z"
   },
   {
    "duration": -408,
    "start_time": "2022-02-18T07:47:00.186Z"
   },
   {
    "duration": -415,
    "start_time": "2022-02-18T07:47:00.194Z"
   },
   {
    "duration": -422,
    "start_time": "2022-02-18T07:47:00.203Z"
   },
   {
    "duration": -435,
    "start_time": "2022-02-18T07:47:00.217Z"
   },
   {
    "duration": -445,
    "start_time": "2022-02-18T07:47:00.228Z"
   },
   {
    "duration": -451,
    "start_time": "2022-02-18T07:47:00.236Z"
   },
   {
    "duration": -526,
    "start_time": "2022-02-18T07:47:00.312Z"
   },
   {
    "duration": -533,
    "start_time": "2022-02-18T07:47:00.320Z"
   },
   {
    "duration": -540,
    "start_time": "2022-02-18T07:47:00.329Z"
   },
   {
    "duration": -551,
    "start_time": "2022-02-18T07:47:00.341Z"
   },
   {
    "duration": -557,
    "start_time": "2022-02-18T07:47:00.348Z"
   },
   {
    "duration": 3,
    "start_time": "2022-02-18T07:47:25.194Z"
   },
   {
    "duration": 3,
    "start_time": "2022-02-18T07:47:40.426Z"
   },
   {
    "duration": 29,
    "start_time": "2022-02-18T07:47:40.431Z"
   },
   {
    "duration": 7,
    "start_time": "2022-02-18T07:47:40.462Z"
   },
   {
    "duration": 6,
    "start_time": "2022-02-18T07:47:40.470Z"
   },
   {
    "duration": 13,
    "start_time": "2022-02-18T07:47:40.477Z"
   },
   {
    "duration": 9,
    "start_time": "2022-02-18T07:47:40.491Z"
   },
   {
    "duration": 6,
    "start_time": "2022-02-18T07:47:40.501Z"
   },
   {
    "duration": 6,
    "start_time": "2022-02-18T07:47:40.508Z"
   },
   {
    "duration": 5,
    "start_time": "2022-02-18T07:47:40.533Z"
   },
   {
    "duration": 6,
    "start_time": "2022-02-18T07:47:40.540Z"
   },
   {
    "duration": 10,
    "start_time": "2022-02-18T07:47:40.547Z"
   },
   {
    "duration": 11,
    "start_time": "2022-02-18T07:47:40.558Z"
   },
   {
    "duration": 8,
    "start_time": "2022-02-18T07:47:40.571Z"
   },
   {
    "duration": 10,
    "start_time": "2022-02-18T07:47:40.580Z"
   },
   {
    "duration": 10,
    "start_time": "2022-02-18T07:47:40.591Z"
   },
   {
    "duration": 8,
    "start_time": "2022-02-18T07:47:40.602Z"
   },
   {
    "duration": 6,
    "start_time": "2022-02-18T07:47:40.631Z"
   },
   {
    "duration": 13,
    "start_time": "2022-02-18T07:47:40.638Z"
   },
   {
    "duration": 7,
    "start_time": "2022-02-18T07:47:40.653Z"
   },
   {
    "duration": 12,
    "start_time": "2022-02-18T07:47:40.662Z"
   },
   {
    "duration": 7,
    "start_time": "2022-02-18T07:47:40.676Z"
   },
   {
    "duration": 11,
    "start_time": "2022-02-18T07:47:40.685Z"
   },
   {
    "duration": 5,
    "start_time": "2022-02-18T07:47:40.698Z"
   },
   {
    "duration": 30,
    "start_time": "2022-02-18T07:47:40.705Z"
   },
   {
    "duration": 9,
    "start_time": "2022-02-18T07:47:40.736Z"
   },
   {
    "duration": 36475,
    "start_time": "2022-02-18T07:47:40.746Z"
   },
   {
    "duration": 21,
    "start_time": "2022-02-18T07:48:17.223Z"
   },
   {
    "duration": 87,
    "start_time": "2022-02-18T07:48:17.246Z"
   },
   {
    "duration": 23366,
    "start_time": "2022-02-18T07:48:17.335Z"
   },
   {
    "duration": 31,
    "start_time": "2022-02-18T07:48:40.703Z"
   },
   {
    "duration": 8,
    "start_time": "2022-02-18T07:48:40.736Z"
   },
   {
    "duration": 5,
    "start_time": "2022-02-18T07:48:40.833Z"
   },
   {
    "duration": 154342,
    "start_time": "2022-02-18T07:48:40.842Z"
   },
   {
    "duration": 3,
    "start_time": "2022-02-18T07:51:15.186Z"
   },
   {
    "duration": 88473,
    "start_time": "2022-02-18T07:51:15.191Z"
   },
   {
    "duration": 77414,
    "start_time": "2022-02-18T07:52:43.667Z"
   },
   {
    "duration": 58,
    "start_time": "2022-02-18T07:54:01.082Z"
   },
   {
    "duration": 194,
    "start_time": "2022-02-18T07:54:01.143Z"
   },
   {
    "duration": 4,
    "start_time": "2022-02-18T07:54:01.339Z"
   },
   {
    "duration": 38,
    "start_time": "2022-02-18T07:54:01.345Z"
   },
   {
    "duration": 290,
    "start_time": "2022-02-18T07:55:56.769Z"
   },
   {
    "duration": 68,
    "start_time": "2022-02-18T07:56:18.502Z"
   },
   {
    "duration": 160,
    "start_time": "2022-02-18T07:56:24.866Z"
   },
   {
    "duration": 94,
    "start_time": "2022-02-18T07:57:48.541Z"
   },
   {
    "duration": 195,
    "start_time": "2022-02-18T07:57:48.994Z"
   },
   {
    "duration": 23,
    "start_time": "2022-02-18T07:58:06.421Z"
   },
   {
    "duration": 166,
    "start_time": "2022-02-18T07:58:08.725Z"
   },
   {
    "duration": 40,
    "start_time": "2022-02-18T07:58:24.854Z"
   },
   {
    "duration": 101,
    "start_time": "2022-02-18T07:58:25.566Z"
   },
   {
    "duration": 150,
    "start_time": "2022-02-18T07:58:34.754Z"
   },
   {
    "duration": 55,
    "start_time": "2022-02-18T07:59:31.302Z"
   },
   {
    "duration": 153,
    "start_time": "2022-02-18T07:59:33.933Z"
   },
   {
    "duration": 30,
    "start_time": "2022-02-18T07:59:50.055Z"
   },
   {
    "duration": 148,
    "start_time": "2022-02-18T07:59:52.074Z"
   },
   {
    "duration": 17,
    "start_time": "2022-02-18T08:00:13.485Z"
   },
   {
    "duration": 156,
    "start_time": "2022-02-18T08:00:20.073Z"
   },
   {
    "duration": 1105,
    "start_time": "2022-02-18T08:04:38.464Z"
   },
   {
    "duration": 38,
    "start_time": "2022-02-18T08:04:39.571Z"
   },
   {
    "duration": 9,
    "start_time": "2022-02-18T08:04:39.611Z"
   },
   {
    "duration": 3,
    "start_time": "2022-02-18T08:04:39.622Z"
   },
   {
    "duration": 22,
    "start_time": "2022-02-18T08:04:39.627Z"
   },
   {
    "duration": 9,
    "start_time": "2022-02-18T08:04:39.651Z"
   },
   {
    "duration": 5,
    "start_time": "2022-02-18T08:04:39.661Z"
   },
   {
    "duration": 6,
    "start_time": "2022-02-18T08:04:39.669Z"
   },
   {
    "duration": 6,
    "start_time": "2022-02-18T08:04:39.676Z"
   },
   {
    "duration": 5,
    "start_time": "2022-02-18T08:04:39.683Z"
   },
   {
    "duration": 12,
    "start_time": "2022-02-18T08:04:39.689Z"
   },
   {
    "duration": 31,
    "start_time": "2022-02-18T08:04:39.703Z"
   },
   {
    "duration": 7,
    "start_time": "2022-02-18T08:04:39.736Z"
   },
   {
    "duration": 5,
    "start_time": "2022-02-18T08:04:39.745Z"
   },
   {
    "duration": 8,
    "start_time": "2022-02-18T08:04:39.751Z"
   },
   {
    "duration": 8,
    "start_time": "2022-02-18T08:04:39.761Z"
   },
   {
    "duration": 8,
    "start_time": "2022-02-18T08:04:39.771Z"
   },
   {
    "duration": 14,
    "start_time": "2022-02-18T08:04:39.781Z"
   },
   {
    "duration": 8,
    "start_time": "2022-02-18T08:04:39.796Z"
   },
   {
    "duration": 33,
    "start_time": "2022-02-18T08:04:39.805Z"
   },
   {
    "duration": 4,
    "start_time": "2022-02-18T08:04:39.847Z"
   },
   {
    "duration": 16,
    "start_time": "2022-02-18T08:04:39.852Z"
   },
   {
    "duration": 3,
    "start_time": "2022-02-18T08:04:39.872Z"
   },
   {
    "duration": 9,
    "start_time": "2022-02-18T08:04:39.878Z"
   },
   {
    "duration": 13,
    "start_time": "2022-02-18T08:04:39.888Z"
   },
   {
    "duration": 35375,
    "start_time": "2022-02-18T08:04:39.903Z"
   },
   {
    "duration": 53,
    "start_time": "2022-02-18T08:05:15.280Z"
   },
   {
    "duration": 99,
    "start_time": "2022-02-18T08:05:15.334Z"
   },
   {
    "duration": 21863,
    "start_time": "2022-02-18T08:05:15.438Z"
   },
   {
    "duration": 29,
    "start_time": "2022-02-18T08:05:37.303Z"
   },
   {
    "duration": 98,
    "start_time": "2022-02-18T08:05:37.335Z"
   },
   {
    "duration": 98,
    "start_time": "2022-02-18T08:05:37.435Z"
   },
   {
    "duration": 151835,
    "start_time": "2022-02-18T08:05:37.535Z"
   },
   {
    "duration": 3,
    "start_time": "2022-02-18T08:08:09.372Z"
   },
   {
    "duration": 88024,
    "start_time": "2022-02-18T08:08:09.376Z"
   },
   {
    "duration": 74532,
    "start_time": "2022-02-18T08:09:37.401Z"
   },
   {
    "duration": 20,
    "start_time": "2022-02-18T08:10:51.935Z"
   },
   {
    "duration": 183,
    "start_time": "2022-02-18T08:10:52.032Z"
   },
   {
    "duration": 15,
    "start_time": "2022-02-18T08:10:52.217Z"
   },
   {
    "duration": 60,
    "start_time": "2022-02-18T08:10:52.233Z"
   },
   {
    "duration": 166,
    "start_time": "2022-02-18T08:10:52.295Z"
   },
   {
    "duration": 29,
    "start_time": "2022-02-18T08:10:52.463Z"
   },
   {
    "duration": 170,
    "start_time": "2022-02-18T08:10:52.494Z"
   },
   {
    "duration": 38,
    "start_time": "2022-02-18T08:10:52.665Z"
   },
   {
    "duration": 178,
    "start_time": "2022-02-18T08:10:52.705Z"
   },
   {
    "duration": 16,
    "start_time": "2022-02-18T08:10:52.884Z"
   },
   {
    "duration": 168,
    "start_time": "2022-02-18T08:10:52.901Z"
   },
   {
    "duration": 301,
    "start_time": "2022-03-05T10:55:14.251Z"
   },
   {
    "duration": 1221,
    "start_time": "2022-03-05T10:55:19.989Z"
   },
   {
    "duration": 41,
    "start_time": "2022-03-05T10:55:21.212Z"
   },
   {
    "duration": 12,
    "start_time": "2022-03-05T10:55:21.255Z"
   },
   {
    "duration": 7,
    "start_time": "2022-03-05T10:55:21.269Z"
   },
   {
    "duration": 20,
    "start_time": "2022-03-05T10:55:21.277Z"
   },
   {
    "duration": 10,
    "start_time": "2022-03-05T10:55:21.298Z"
   },
   {
    "duration": 6,
    "start_time": "2022-03-05T10:55:21.309Z"
   },
   {
    "duration": 10,
    "start_time": "2022-03-05T10:55:21.317Z"
   },
   {
    "duration": 10,
    "start_time": "2022-03-05T10:55:21.329Z"
   },
   {
    "duration": 10,
    "start_time": "2022-03-05T10:55:21.342Z"
   },
   {
    "duration": 24,
    "start_time": "2022-03-05T10:55:21.354Z"
   },
   {
    "duration": 10,
    "start_time": "2022-03-05T10:55:21.380Z"
   },
   {
    "duration": 7,
    "start_time": "2022-03-05T10:55:21.392Z"
   },
   {
    "duration": 6,
    "start_time": "2022-03-05T10:55:21.401Z"
   },
   {
    "duration": 9,
    "start_time": "2022-03-05T10:55:21.409Z"
   },
   {
    "duration": 7,
    "start_time": "2022-03-05T10:55:21.420Z"
   },
   {
    "duration": 13,
    "start_time": "2022-03-05T10:55:21.429Z"
   },
   {
    "duration": 42,
    "start_time": "2022-03-05T10:55:21.444Z"
   },
   {
    "duration": 8,
    "start_time": "2022-03-05T10:55:21.487Z"
   },
   {
    "duration": 12,
    "start_time": "2022-03-05T10:55:21.497Z"
   },
   {
    "duration": 6,
    "start_time": "2022-03-05T10:55:21.511Z"
   },
   {
    "duration": 10,
    "start_time": "2022-03-05T10:55:21.518Z"
   },
   {
    "duration": 4,
    "start_time": "2022-03-05T10:55:21.530Z"
   },
   {
    "duration": 45,
    "start_time": "2022-03-05T10:55:21.536Z"
   },
   {
    "duration": 11,
    "start_time": "2022-03-05T10:55:21.583Z"
   },
   {
    "duration": 41259,
    "start_time": "2022-03-05T10:55:21.595Z"
   },
   {
    "duration": 29,
    "start_time": "2022-03-05T10:56:02.857Z"
   },
   {
    "duration": 101,
    "start_time": "2022-03-05T10:56:02.889Z"
   },
   {
    "duration": 25836,
    "start_time": "2022-03-05T10:56:02.991Z"
   },
   {
    "duration": 54,
    "start_time": "2022-03-05T10:56:28.829Z"
   },
   {
    "duration": 20,
    "start_time": "2022-03-05T10:59:33.071Z"
   },
   {
    "duration": 1182,
    "start_time": "2022-03-05T10:59:53.609Z"
   },
   {
    "duration": 30,
    "start_time": "2022-03-05T10:59:54.793Z"
   },
   {
    "duration": 9,
    "start_time": "2022-03-05T10:59:54.825Z"
   },
   {
    "duration": 6,
    "start_time": "2022-03-05T10:59:54.836Z"
   },
   {
    "duration": 19,
    "start_time": "2022-03-05T10:59:54.843Z"
   },
   {
    "duration": 8,
    "start_time": "2022-03-05T10:59:54.877Z"
   },
   {
    "duration": 6,
    "start_time": "2022-03-05T10:59:54.887Z"
   },
   {
    "duration": 6,
    "start_time": "2022-03-05T10:59:54.896Z"
   },
   {
    "duration": 8,
    "start_time": "2022-03-05T10:59:54.904Z"
   },
   {
    "duration": 4,
    "start_time": "2022-03-05T10:59:54.913Z"
   },
   {
    "duration": 8,
    "start_time": "2022-03-05T10:59:54.918Z"
   },
   {
    "duration": 7,
    "start_time": "2022-03-05T10:59:54.927Z"
   },
   {
    "duration": 43,
    "start_time": "2022-03-05T10:59:54.935Z"
   },
   {
    "duration": 6,
    "start_time": "2022-03-05T10:59:54.980Z"
   },
   {
    "duration": 6,
    "start_time": "2022-03-05T10:59:54.988Z"
   },
   {
    "duration": 7,
    "start_time": "2022-03-05T10:59:54.995Z"
   },
   {
    "duration": 6,
    "start_time": "2022-03-05T10:59:55.004Z"
   },
   {
    "duration": 15,
    "start_time": "2022-03-05T10:59:55.012Z"
   },
   {
    "duration": 8,
    "start_time": "2022-03-05T10:59:55.029Z"
   },
   {
    "duration": 49,
    "start_time": "2022-03-05T10:59:55.039Z"
   },
   {
    "duration": 7,
    "start_time": "2022-03-05T10:59:55.089Z"
   },
   {
    "duration": 11,
    "start_time": "2022-03-05T10:59:55.097Z"
   },
   {
    "duration": 4,
    "start_time": "2022-03-05T10:59:55.112Z"
   },
   {
    "duration": 8,
    "start_time": "2022-03-05T10:59:55.118Z"
   },
   {
    "duration": 8,
    "start_time": "2022-03-05T10:59:55.128Z"
   },
   {
    "duration": 41531,
    "start_time": "2022-03-05T10:59:55.138Z"
   },
   {
    "duration": 18,
    "start_time": "2022-03-05T11:00:36.670Z"
   },
   {
    "duration": 90,
    "start_time": "2022-03-05T11:00:36.691Z"
   },
   {
    "duration": 26583,
    "start_time": "2022-03-05T11:00:36.784Z"
   },
   {
    "duration": 24,
    "start_time": "2022-03-05T11:01:03.370Z"
   },
   {
    "duration": 189,
    "start_time": "2022-03-05T11:01:03.397Z"
   },
   {
    "duration": 193,
    "start_time": "2022-03-05T11:01:03.588Z"
   },
   {
    "duration": 186444,
    "start_time": "2022-03-05T11:01:03.782Z"
   },
   {
    "duration": 4,
    "start_time": "2022-03-05T11:04:10.228Z"
   },
   {
    "duration": 104434,
    "start_time": "2022-03-05T11:04:10.233Z"
   },
   {
    "duration": 86274,
    "start_time": "2022-03-05T11:05:54.668Z"
   },
   {
    "duration": 34,
    "start_time": "2022-03-05T11:07:20.944Z"
   },
   {
    "duration": 287,
    "start_time": "2022-03-05T11:07:20.985Z"
   },
   {
    "duration": 4,
    "start_time": "2022-03-05T11:07:21.277Z"
   },
   {
    "duration": 74,
    "start_time": "2022-03-05T11:07:21.283Z"
   },
   {
    "duration": 218,
    "start_time": "2022-03-05T11:07:21.359Z"
   },
   {
    "duration": 40,
    "start_time": "2022-03-05T11:07:21.579Z"
   },
   {
    "duration": 216,
    "start_time": "2022-03-05T11:07:21.621Z"
   },
   {
    "duration": 54,
    "start_time": "2022-03-05T11:07:21.839Z"
   },
   {
    "duration": 207,
    "start_time": "2022-03-05T11:07:21.895Z"
   },
   {
    "duration": 19,
    "start_time": "2022-03-05T11:07:22.103Z"
   },
   {
    "duration": 220,
    "start_time": "2022-03-05T11:07:22.123Z"
   }
  ],
  "kernelspec": {
   "display_name": "Python 3 (ipykernel)",
   "language": "python",
   "name": "python3"
  },
  "language_info": {
   "codemirror_mode": {
    "name": "ipython",
    "version": 3
   },
   "file_extension": ".py",
   "mimetype": "text/x-python",
   "name": "python",
   "nbconvert_exporter": "python",
   "pygments_lexer": "ipython3",
   "version": "3.9.12"
  },
  "toc": {
   "base_numbering": 1,
   "nav_menu": {},
   "number_sections": true,
   "sideBar": true,
   "skip_h1_title": true,
   "title_cell": "Содержание",
   "title_sidebar": "Contents",
   "toc_cell": true,
   "toc_position": {
    "height": "calc(100% - 180px)",
    "left": "10px",
    "top": "150px",
    "width": "317.047px"
   },
   "toc_section_display": true,
   "toc_window_display": true
  }
 },
 "nbformat": 4,
 "nbformat_minor": 2
}
